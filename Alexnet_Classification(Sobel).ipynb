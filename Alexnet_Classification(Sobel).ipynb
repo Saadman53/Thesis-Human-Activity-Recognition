{
  "nbformat": 4,
  "nbformat_minor": 0,
  "metadata": {
    "colab": {
      "provenance": [],
      "authorship_tag": "ABX9TyNo2CEB9U03DCXra4PYsXoE",
      "include_colab_link": true
    },
    "kernelspec": {
      "name": "python3",
      "display_name": "Python 3"
    },
    "language_info": {
      "name": "python"
    }
  },
  "cells": [
    {
      "cell_type": "markdown",
      "metadata": {
        "id": "view-in-github",
        "colab_type": "text"
      },
      "source": [
        "<a href=\"https://colab.research.google.com/github/Saadman53/Thesis-Human-Activity-Recognition/blob/main/Alexnet_Classification(Sobel).ipynb\" target=\"_parent\"><img src=\"https://colab.research.google.com/assets/colab-badge.svg\" alt=\"Open In Colab\"/></a>"
      ]
    },
    {
      "cell_type": "code",
      "execution_count": 5,
      "metadata": {
        "colab": {
          "base_uri": "https://localhost:8080/"
        },
        "id": "0rf0N13lE-rM",
        "outputId": "b927c719-5f25-4a36-9e76-1e1a1001c451"
      },
      "outputs": [
        {
          "output_type": "stream",
          "name": "stdout",
          "text": [
            "Drive already mounted at /content/drive; to attempt to forcibly remount, call drive.mount(\"/content/drive\", force_remount=True).\n"
          ]
        }
      ],
      "source": [
        "from google.colab import drive\n",
        "drive.mount('/content/drive')\n",
        "gdrive_path = \"drive/My Drive/Dataset/alexnet_extracted_sobel_4096.mat\"\n",
        "sensor_path = \"drive/My Drive/Dataset/sensor_features_acc_gyro.mat\""
      ]
    },
    {
      "cell_type": "code",
      "source": [
        "!pip install ax-platform"
      ],
      "metadata": {
        "colab": {
          "base_uri": "https://localhost:8080/"
        },
        "id": "EnedAK4CcgRH",
        "outputId": "1ff9a493-f9e6-496e-a905-5a7c63ee0a29"
      },
      "execution_count": 2,
      "outputs": [
        {
          "output_type": "stream",
          "name": "stdout",
          "text": [
            "Looking in indexes: https://pypi.org/simple, https://us-python.pkg.dev/colab-wheels/public/simple/\n",
            "Collecting ax-platform\n",
            "  Downloading ax_platform-0.2.10-py3-none-any.whl (1.1 MB)\n",
            "\u001b[2K     \u001b[90m━━━━━━━━━━━━━━━━━━━━━━━━━━━━━━━━━━━━━━━━\u001b[0m \u001b[32m1.1/1.1 MB\u001b[0m \u001b[31m16.1 MB/s\u001b[0m eta \u001b[36m0:00:00\u001b[0m\n",
            "\u001b[?25hRequirement already satisfied: pandas in /usr/local/lib/python3.8/dist-packages (from ax-platform) (1.3.5)\n",
            "Requirement already satisfied: typeguard in /usr/local/lib/python3.8/dist-packages (from ax-platform) (2.7.1)\n",
            "Collecting botorch==0.8.0\n",
            "  Downloading botorch-0.8.0-py3-none-any.whl (481 kB)\n",
            "\u001b[2K     \u001b[90m━━━━━━━━━━━━━━━━━━━━━━━━━━━━━━━━━━━━━━\u001b[0m \u001b[32m481.8/481.8 KB\u001b[0m \u001b[31m47.1 MB/s\u001b[0m eta \u001b[36m0:00:00\u001b[0m\n",
            "\u001b[?25hRequirement already satisfied: jinja2 in /usr/local/lib/python3.8/dist-packages (from ax-platform) (2.11.3)\n",
            "Requirement already satisfied: scikit-learn in /usr/local/lib/python3.8/dist-packages (from ax-platform) (1.0.2)\n",
            "Requirement already satisfied: plotly in /usr/local/lib/python3.8/dist-packages (from ax-platform) (5.5.0)\n",
            "Requirement already satisfied: scipy in /usr/local/lib/python3.8/dist-packages (from ax-platform) (1.7.3)\n",
            "Requirement already satisfied: ipywidgets<8.0.0 in /usr/local/lib/python3.8/dist-packages (from ax-platform) (7.7.1)\n",
            "Collecting gpytorch==1.9.0\n",
            "  Downloading gpytorch-1.9.0-py3-none-any.whl (245 kB)\n",
            "\u001b[2K     \u001b[90m━━━━━━━━━━━━━━━━━━━━━━━━━━━━━━━━━━━━━━\u001b[0m \u001b[32m245.8/245.8 KB\u001b[0m \u001b[31m29.6 MB/s\u001b[0m eta \u001b[36m0:00:00\u001b[0m\n",
            "\u001b[?25hRequirement already satisfied: multipledispatch in /usr/local/lib/python3.8/dist-packages (from botorch==0.8.0->ax-platform) (0.6.0)\n",
            "Collecting pyro-ppl>=1.8.2\n",
            "  Downloading pyro_ppl-1.8.4-py3-none-any.whl (730 kB)\n",
            "\u001b[2K     \u001b[90m━━━━━━━━━━━━━━━━━━━━━━━━━━━━━━━━━━━━━━\u001b[0m \u001b[32m730.7/730.7 KB\u001b[0m \u001b[31m58.7 MB/s\u001b[0m eta \u001b[36m0:00:00\u001b[0m\n",
            "\u001b[?25hRequirement already satisfied: torch>=1.11 in /usr/local/lib/python3.8/dist-packages (from botorch==0.8.0->ax-platform) (1.13.1+cu116)\n",
            "Collecting linear-operator==0.2.0\n",
            "  Downloading linear_operator-0.2.0-py3-none-any.whl (152 kB)\n",
            "\u001b[2K     \u001b[90m━━━━━━━━━━━━━━━━━━━━━━━━━━━━━━━━━━━━━━\u001b[0m \u001b[32m153.0/153.0 KB\u001b[0m \u001b[31m21.7 MB/s\u001b[0m eta \u001b[36m0:00:00\u001b[0m\n",
            "\u001b[?25hRequirement already satisfied: ipython>=4.0.0 in /usr/local/lib/python3.8/dist-packages (from ipywidgets<8.0.0->ax-platform) (7.9.0)\n",
            "Requirement already satisfied: ipykernel>=4.5.1 in /usr/local/lib/python3.8/dist-packages (from ipywidgets<8.0.0->ax-platform) (5.3.4)\n",
            "Requirement already satisfied: ipython-genutils~=0.2.0 in /usr/local/lib/python3.8/dist-packages (from ipywidgets<8.0.0->ax-platform) (0.2.0)\n",
            "Requirement already satisfied: jupyterlab-widgets>=1.0.0 in /usr/local/lib/python3.8/dist-packages (from ipywidgets<8.0.0->ax-platform) (3.0.5)\n",
            "Requirement already satisfied: traitlets>=4.3.1 in /usr/local/lib/python3.8/dist-packages (from ipywidgets<8.0.0->ax-platform) (5.7.1)\n",
            "Requirement already satisfied: widgetsnbextension~=3.6.0 in /usr/local/lib/python3.8/dist-packages (from ipywidgets<8.0.0->ax-platform) (3.6.1)\n",
            "Requirement already satisfied: MarkupSafe>=0.23 in /usr/local/lib/python3.8/dist-packages (from jinja2->ax-platform) (2.0.1)\n",
            "Requirement already satisfied: numpy>=1.17.3 in /usr/local/lib/python3.8/dist-packages (from pandas->ax-platform) (1.21.6)\n",
            "Requirement already satisfied: python-dateutil>=2.7.3 in /usr/local/lib/python3.8/dist-packages (from pandas->ax-platform) (2.8.2)\n",
            "Requirement already satisfied: pytz>=2017.3 in /usr/local/lib/python3.8/dist-packages (from pandas->ax-platform) (2022.7.1)\n",
            "Requirement already satisfied: tenacity>=6.2.0 in /usr/local/lib/python3.8/dist-packages (from plotly->ax-platform) (8.1.0)\n",
            "Requirement already satisfied: six in /usr/local/lib/python3.8/dist-packages (from plotly->ax-platform) (1.15.0)\n",
            "Requirement already satisfied: joblib>=0.11 in /usr/local/lib/python3.8/dist-packages (from scikit-learn->ax-platform) (1.2.0)\n",
            "Requirement already satisfied: threadpoolctl>=2.0.0 in /usr/local/lib/python3.8/dist-packages (from scikit-learn->ax-platform) (3.1.0)\n",
            "Requirement already satisfied: jupyter-client in /usr/local/lib/python3.8/dist-packages (from ipykernel>=4.5.1->ipywidgets<8.0.0->ax-platform) (6.1.12)\n",
            "Requirement already satisfied: tornado>=4.2 in /usr/local/lib/python3.8/dist-packages (from ipykernel>=4.5.1->ipywidgets<8.0.0->ax-platform) (6.0.4)\n",
            "Collecting jedi>=0.10\n",
            "  Downloading jedi-0.18.2-py2.py3-none-any.whl (1.6 MB)\n",
            "\u001b[2K     \u001b[90m━━━━━━━━━━━━━━━━━━━━━━━━━━━━━━━━━━━━━━━━\u001b[0m \u001b[32m1.6/1.6 MB\u001b[0m \u001b[31m64.2 MB/s\u001b[0m eta \u001b[36m0:00:00\u001b[0m\n",
            "\u001b[?25hRequirement already satisfied: setuptools>=18.5 in /usr/local/lib/python3.8/dist-packages (from ipython>=4.0.0->ipywidgets<8.0.0->ax-platform) (57.4.0)\n",
            "Requirement already satisfied: prompt-toolkit<2.1.0,>=2.0.0 in /usr/local/lib/python3.8/dist-packages (from ipython>=4.0.0->ipywidgets<8.0.0->ax-platform) (2.0.10)\n",
            "Requirement already satisfied: pygments in /usr/local/lib/python3.8/dist-packages (from ipython>=4.0.0->ipywidgets<8.0.0->ax-platform) (2.6.1)\n",
            "Requirement already satisfied: pexpect in /usr/local/lib/python3.8/dist-packages (from ipython>=4.0.0->ipywidgets<8.0.0->ax-platform) (4.8.0)\n",
            "Requirement already satisfied: backcall in /usr/local/lib/python3.8/dist-packages (from ipython>=4.0.0->ipywidgets<8.0.0->ax-platform) (0.2.0)\n",
            "Requirement already satisfied: decorator in /usr/local/lib/python3.8/dist-packages (from ipython>=4.0.0->ipywidgets<8.0.0->ax-platform) (4.4.2)\n",
            "Requirement already satisfied: pickleshare in /usr/local/lib/python3.8/dist-packages (from ipython>=4.0.0->ipywidgets<8.0.0->ax-platform) (0.7.5)\n",
            "Collecting pyro-api>=0.1.1\n",
            "  Downloading pyro_api-0.1.2-py3-none-any.whl (11 kB)\n",
            "Requirement already satisfied: opt-einsum>=2.3.2 in /usr/local/lib/python3.8/dist-packages (from pyro-ppl>=1.8.2->botorch==0.8.0->ax-platform) (3.3.0)\n",
            "Requirement already satisfied: tqdm>=4.36 in /usr/local/lib/python3.8/dist-packages (from pyro-ppl>=1.8.2->botorch==0.8.0->ax-platform) (4.64.1)\n",
            "Requirement already satisfied: typing-extensions in /usr/local/lib/python3.8/dist-packages (from torch>=1.11->botorch==0.8.0->ax-platform) (4.4.0)\n",
            "Requirement already satisfied: notebook>=4.4.1 in /usr/local/lib/python3.8/dist-packages (from widgetsnbextension~=3.6.0->ipywidgets<8.0.0->ax-platform) (5.7.16)\n",
            "Requirement already satisfied: parso<0.9.0,>=0.8.0 in /usr/local/lib/python3.8/dist-packages (from jedi>=0.10->ipython>=4.0.0->ipywidgets<8.0.0->ax-platform) (0.8.3)\n",
            "Requirement already satisfied: nbformat in /usr/local/lib/python3.8/dist-packages (from notebook>=4.4.1->widgetsnbextension~=3.6.0->ipywidgets<8.0.0->ax-platform) (5.7.3)\n",
            "Requirement already satisfied: Send2Trash in /usr/local/lib/python3.8/dist-packages (from notebook>=4.4.1->widgetsnbextension~=3.6.0->ipywidgets<8.0.0->ax-platform) (1.8.0)\n",
            "Requirement already satisfied: nbconvert<6.0 in /usr/local/lib/python3.8/dist-packages (from notebook>=4.4.1->widgetsnbextension~=3.6.0->ipywidgets<8.0.0->ax-platform) (5.6.1)\n",
            "Requirement already satisfied: jupyter-core>=4.4.0 in /usr/local/lib/python3.8/dist-packages (from notebook>=4.4.1->widgetsnbextension~=3.6.0->ipywidgets<8.0.0->ax-platform) (5.2.0)\n",
            "Requirement already satisfied: prometheus-client in /usr/local/lib/python3.8/dist-packages (from notebook>=4.4.1->widgetsnbextension~=3.6.0->ipywidgets<8.0.0->ax-platform) (0.16.0)\n",
            "Requirement already satisfied: terminado>=0.8.1 in /usr/local/lib/python3.8/dist-packages (from notebook>=4.4.1->widgetsnbextension~=3.6.0->ipywidgets<8.0.0->ax-platform) (0.13.3)\n",
            "Requirement already satisfied: pyzmq>=17 in /usr/local/lib/python3.8/dist-packages (from notebook>=4.4.1->widgetsnbextension~=3.6.0->ipywidgets<8.0.0->ax-platform) (23.2.1)\n",
            "Requirement already satisfied: wcwidth in /usr/local/lib/python3.8/dist-packages (from prompt-toolkit<2.1.0,>=2.0.0->ipython>=4.0.0->ipywidgets<8.0.0->ax-platform) (0.2.6)\n",
            "Requirement already satisfied: ptyprocess>=0.5 in /usr/local/lib/python3.8/dist-packages (from pexpect->ipython>=4.0.0->ipywidgets<8.0.0->ax-platform) (0.7.0)\n",
            "Requirement already satisfied: platformdirs>=2.5 in /usr/local/lib/python3.8/dist-packages (from jupyter-core>=4.4.0->notebook>=4.4.1->widgetsnbextension~=3.6.0->ipywidgets<8.0.0->ax-platform) (2.6.2)\n",
            "Requirement already satisfied: bleach in /usr/local/lib/python3.8/dist-packages (from nbconvert<6.0->notebook>=4.4.1->widgetsnbextension~=3.6.0->ipywidgets<8.0.0->ax-platform) (6.0.0)\n",
            "Requirement already satisfied: entrypoints>=0.2.2 in /usr/local/lib/python3.8/dist-packages (from nbconvert<6.0->notebook>=4.4.1->widgetsnbextension~=3.6.0->ipywidgets<8.0.0->ax-platform) (0.4)\n",
            "Requirement already satisfied: defusedxml in /usr/local/lib/python3.8/dist-packages (from nbconvert<6.0->notebook>=4.4.1->widgetsnbextension~=3.6.0->ipywidgets<8.0.0->ax-platform) (0.7.1)\n",
            "Requirement already satisfied: testpath in /usr/local/lib/python3.8/dist-packages (from nbconvert<6.0->notebook>=4.4.1->widgetsnbextension~=3.6.0->ipywidgets<8.0.0->ax-platform) (0.6.0)\n",
            "Requirement already satisfied: pandocfilters>=1.4.1 in /usr/local/lib/python3.8/dist-packages (from nbconvert<6.0->notebook>=4.4.1->widgetsnbextension~=3.6.0->ipywidgets<8.0.0->ax-platform) (1.5.0)\n",
            "Requirement already satisfied: mistune<2,>=0.8.1 in /usr/local/lib/python3.8/dist-packages (from nbconvert<6.0->notebook>=4.4.1->widgetsnbextension~=3.6.0->ipywidgets<8.0.0->ax-platform) (0.8.4)\n",
            "Requirement already satisfied: fastjsonschema in /usr/local/lib/python3.8/dist-packages (from nbformat->notebook>=4.4.1->widgetsnbextension~=3.6.0->ipywidgets<8.0.0->ax-platform) (2.16.2)\n",
            "Requirement already satisfied: jsonschema>=2.6 in /usr/local/lib/python3.8/dist-packages (from nbformat->notebook>=4.4.1->widgetsnbextension~=3.6.0->ipywidgets<8.0.0->ax-platform) (4.3.3)\n",
            "Requirement already satisfied: importlib-resources>=1.4.0 in /usr/local/lib/python3.8/dist-packages (from jsonschema>=2.6->nbformat->notebook>=4.4.1->widgetsnbextension~=3.6.0->ipywidgets<8.0.0->ax-platform) (5.10.2)\n",
            "Requirement already satisfied: pyrsistent!=0.17.0,!=0.17.1,!=0.17.2,>=0.14.0 in /usr/local/lib/python3.8/dist-packages (from jsonschema>=2.6->nbformat->notebook>=4.4.1->widgetsnbextension~=3.6.0->ipywidgets<8.0.0->ax-platform) (0.19.3)\n",
            "Requirement already satisfied: attrs>=17.4.0 in /usr/local/lib/python3.8/dist-packages (from jsonschema>=2.6->nbformat->notebook>=4.4.1->widgetsnbextension~=3.6.0->ipywidgets<8.0.0->ax-platform) (22.2.0)\n",
            "Requirement already satisfied: webencodings in /usr/local/lib/python3.8/dist-packages (from bleach->nbconvert<6.0->notebook>=4.4.1->widgetsnbextension~=3.6.0->ipywidgets<8.0.0->ax-platform) (0.5.1)\n",
            "Requirement already satisfied: zipp>=3.1.0 in /usr/local/lib/python3.8/dist-packages (from importlib-resources>=1.4.0->jsonschema>=2.6->nbformat->notebook>=4.4.1->widgetsnbextension~=3.6.0->ipywidgets<8.0.0->ax-platform) (3.12.0)\n",
            "Installing collected packages: pyro-api, jedi, pyro-ppl, linear-operator, gpytorch, botorch, ax-platform\n",
            "Successfully installed ax-platform-0.2.10 botorch-0.8.0 gpytorch-1.9.0 jedi-0.18.2 linear-operator-0.2.0 pyro-api-0.1.2 pyro-ppl-1.8.4\n"
          ]
        }
      ]
    },
    {
      "cell_type": "code",
      "source": [
        "import pandas as pd\n",
        "import numpy as np\n",
        "import matplotlib.pyplot as plt\n",
        "import seaborn as sns\n",
        "%matplotlib inline\n",
        "import time\n",
        "\n",
        "\n",
        "from sklearn.preprocessing import MinMaxScaler\n",
        "import torch\n",
        "import torch.nn as nn\n",
        "import torch.nn.functional as F\n",
        "import torch.optim as optim\n",
        "import torch.nn.functional as F\n",
        "from torch.utils import data\n",
        "\n",
        "from torch.utils.data import DataLoader, TensorDataset\n",
        "from torch import Tensor\n",
        "import torch.optim as optim\n",
        "from ax.plot.contour import plot_contour\n",
        "from ax.plot.trace import optimization_trace_single_method\n",
        "from ax.service.managed_loop import optimize\n",
        "from ax.utils.notebook.plotting import render\n",
        "from ax.utils.tutorials.cnn_utils import train, evaluate\n",
        "\n",
        "\n",
        "import torchvision\n",
        "import torchvision.transforms as transforms\n",
        "\n",
        "\n",
        "\n",
        "import random\n",
        "from sklearn.metrics import confusion_matrix, recall_score, precision_score\n",
        "from sklearn.model_selection import train_test_split\n",
        "\n",
        "\n",
        "import warnings\n",
        "warnings.filterwarnings('ignore')\n",
        "from sklearn.metrics import classification_report\n",
        "\n",
        "\n",
        "from torch.utils.data import DataLoader, ConcatDataset\n",
        "# from torchvision import transforms\n",
        "from sklearn.model_selection  import StratifiedKFold\n",
        "\n",
        "import torch.optim.lr_scheduler as lr_scheduler\n",
        "%matplotlib inline\n",
        "\n",
        "import scipy.io as sio\n",
        "torch.autograd.set_detect_anomaly(True)\n",
        "\n",
        "\n",
        "from functools import partial\n",
        "from typing import Any, Optional\n",
        "\n",
        "import torch\n",
        "import torch.nn as nn\n"
      ],
      "metadata": {
        "id": "obrEjxxOFJok"
      },
      "execution_count": 3,
      "outputs": []
    },
    {
      "cell_type": "code",
      "source": [
        "dat = sio.loadmat(gdrive_path)"
      ],
      "metadata": {
        "id": "lFKKccLpFLwD"
      },
      "execution_count": 6,
      "outputs": []
    },
    {
      "cell_type": "code",
      "source": [
        "files = dat['filename'].ravel()\n",
        "files = [x[0].replace(\" \",\"\") for x in files ]\n",
        "map_filename_data = dict(zip(files, dat['data'].reshape(1165,4096)))\n",
        "map_filename_label = dict(zip(files, dat['labels'].ravel()))\n",
        "sensor_Dat = sio.loadmat(sensor_path)\n",
        "train_files = sensor_Dat['train_filename'].ravel()\n",
        "test_files = sensor_Dat['test_filename'].ravel()\n",
        "train_X = []\n",
        "train_y = []\n",
        "test_X = []\n",
        "test_y = []\n",
        "for file in train_files:\n",
        "  train_X.append(map_filename_data[file[0]])\n",
        "  train_y.append(map_filename_label[file[0]])\n",
        "\n",
        "for file in test_files:\n",
        "  test_X.append(map_filename_data[file[0]])\n",
        "  test_y.append(map_filename_label[file[0]])\n",
        "\n",
        "X_train = np.array(train_X)\n",
        "X_test = np.array(test_X)\n",
        "y_train = np.array(train_y)\n",
        "y_test = np.array(test_y)\n",
        "     "
      ],
      "metadata": {
        "id": "m3bRqOo3LlEN"
      },
      "execution_count": 8,
      "outputs": []
    },
    {
      "cell_type": "code",
      "source": [
        "X_train_val, X_val, y_train_val, y_val = train_test_split(X_train, y_train,test_size=0.15, random_state=42, stratify = y_train)"
      ],
      "metadata": {
        "id": "GYHarEr7jqvn"
      },
      "execution_count": 9,
      "outputs": []
    },
    {
      "cell_type": "code",
      "source": [
        "X_train.shape"
      ],
      "metadata": {
        "colab": {
          "base_uri": "https://localhost:8080/"
        },
        "id": "huUEpQWOHJEU",
        "outputId": "fc978d07-c8f4-4ddf-dd2c-5d9ff2d0f73c"
      },
      "execution_count": 10,
      "outputs": [
        {
          "output_type": "execute_result",
          "data": {
            "text/plain": [
              "(814, 4096)"
            ]
          },
          "metadata": {},
          "execution_count": 10
        }
      ]
    },
    {
      "cell_type": "code",
      "source": [
        "alexnet_features = {'X_train':X_train, 'X_test': X_test, 'y_train': y_train, 'y_test':y_test}\n",
        "sio.savemat(\"drive/My Drive/Dataset/alexnet_sobel_features.mat\",alexnet_features)"
      ],
      "metadata": {
        "id": "LPkYrMhM4q2m"
      },
      "execution_count": 11,
      "outputs": []
    },
    {
      "cell_type": "code",
      "source": [
        "# X_train, X_test, y_train, y_test = train_test_split(X, y,test_size=0.3, random_state=42, stratify = y)"
      ],
      "metadata": {
        "id": "HXuPnwkHFUUE"
      },
      "execution_count": null,
      "outputs": []
    },
    {
      "cell_type": "code",
      "source": [
        "class DNN(nn.Module):\n",
        "    def __init__(self,input_size,output_size):\n",
        "        super(DNN,self).__init__()\n",
        "        self.hidden1 = nn.Linear(input_size,2048)\n",
        "        self.hidden2 = nn.Linear(2048,1024)\n",
        "        self.hidden3 = nn.Linear(1024,256)\n",
        "        self.hidden4 = nn.Linear(256,64)\n",
        "        self.output = nn.Linear(64,output_size)\n",
        "        self.softmax = F.softmax\n",
        "        self.relu = nn.ReLU()\n",
        "        self.dropout = nn.Dropout(p=0.25)\n",
        "        self.batchnorm1 = nn.BatchNorm1d(2048)\n",
        "        self.batchnorm2 = nn.BatchNorm1d(1024)\n",
        "        self.batchnorm3 = nn.BatchNorm1d(256)\n",
        "        self.batchnorm4 = nn.BatchNorm1d(64)\n",
        "    \n",
        "    def forward(self,x):\n",
        "        out = self.hidden1(x)\n",
        "        out = self.batchnorm1(out)\n",
        "        out = self.relu(out)\n",
        "        \n",
        "        out = self.hidden2(out)\n",
        "        out = self.batchnorm2(out)\n",
        "        out = self.relu(out)\n",
        "        out = self.dropout(out)\n",
        "\n",
        "        out = self.hidden3(out)\n",
        "        out = self.batchnorm3(out)\n",
        "        out = self.relu(out)\n",
        "        out = self.dropout(out)\n",
        "\n",
        "        out = self.hidden4(out)\n",
        "        out = self.batchnorm4(out)\n",
        "        out = self.relu(out)\n",
        "        out = self.dropout(out)\n",
        "\n",
        "        out = self.output(out)\n",
        "        return out\n",
        "     "
      ],
      "metadata": {
        "id": "HahK52JbGWNi"
      },
      "execution_count": 12,
      "outputs": []
    },
    {
      "cell_type": "code",
      "source": [
        "def train_test_loader(X_train, X_test, y_train, y_test):\n",
        "  scaler = MinMaxScaler()\n",
        "  train_X = X_train\n",
        "  test_X = X_test\n",
        "  train_X = scaler.fit_transform(train_X)\n",
        "  test_X = scaler.transform(test_X)\n",
        "  train_dataset = TensorDataset(Tensor(train_X), Tensor(y_train))\n",
        "  test_dataset = TensorDataset(Tensor(test_X), Tensor(y_test))\n",
        "  test_loader = DataLoader(test_dataset, batch_size= 64)\n",
        "  return train_dataset, test_loader"
      ],
      "metadata": {
        "id": "7Fao5DlmcQWt"
      },
      "execution_count": 13,
      "outputs": []
    },
    {
      "cell_type": "code",
      "source": [
        "def net_train(net, train_loader, parameters):\n",
        "  criterion = nn.CrossEntropyLoss(reduction = \"sum\")\n",
        "  optimizer = optim.SGD(net.parameters(), # or any optimizer you prefer \n",
        "                        lr=parameters.get(\"lr\", 0.001), # 0.001 is used if no lr is specified\n",
        "                        momentum=parameters.get(\"momentum\", 0.9)\n",
        "  )\n",
        "\n",
        "  scheduler = optim.lr_scheduler.StepLR(\n",
        "      optimizer,\n",
        "      step_size=int(parameters.get(\"step_size\", 30)),\n",
        "      gamma=1.0,  # default is no learning rate decay\n",
        "  )\n",
        "\n",
        "  num_epochs = parameters.get(\"max_epoch\", 3) # Play around with epoch number\n",
        "  # Train Network\n",
        "  for _ in range(num_epochs):\n",
        "    for inputs, labels in train_loader:\n",
        "      # zero the parameter gradients\n",
        "      optimizer.zero_grad()\n",
        "      # forward + backward + optimize\n",
        "      outputs = net(inputs)\n",
        "      loss = criterion(outputs, labels.long())\n",
        "      loss.backward()\n",
        "      optimizer.step()\n",
        "      scheduler.step()\n",
        "  return net"
      ],
      "metadata": {
        "id": "hF5jMTGJcWnp"
      },
      "execution_count": 14,
      "outputs": []
    },
    {
      "cell_type": "code",
      "source": [
        "def train_evaluate(parameterization):\n",
        "    # constructing a new training data loader allows us to tune the batch size\n",
        "    train_loader = torch.utils.data.DataLoader(train_set,\n",
        "                                batch_size=parameterization.get(\"batchsize\", 32),\n",
        "                                shuffle=True,\n",
        "                                num_workers=0,\n",
        "                                pin_memory=True,drop_last=True)\n",
        "    \n",
        "    # Get neural net\n",
        "    untrained_net = DNN(inpsize,outsize)\n",
        "    # train\n",
        "    trained_net = net_train(net=untrained_net, train_loader=train_loader, \n",
        "                            parameters=parameterization)\n",
        "    # return the accuracy of the model as it was trained in this run\n",
        "    return evaluate(\n",
        "        net=trained_net,\n",
        "        data_loader=test_loader,\n",
        "        dtype = torch.float,\n",
        "        device = \"cpu\"\n",
        "    )"
      ],
      "metadata": {
        "id": "sbu00Qr6cpQM"
      },
      "execution_count": 15,
      "outputs": []
    },
    {
      "cell_type": "code",
      "source": [
        "np.unique(y_train_val)"
      ],
      "metadata": {
        "id": "M_0IFdmRD58Y",
        "outputId": "cb9a4b40-c5e8-4dfd-f3a2-f93dfd4e9ed0",
        "colab": {
          "base_uri": "https://localhost:8080/"
        }
      },
      "execution_count": 16,
      "outputs": [
        {
          "output_type": "execute_result",
          "data": {
            "text/plain": [
              "array([ 0,  1,  2,  3,  4,  5,  6,  7,  8,  9, 10, 11, 12, 13, 14, 15, 16,\n",
              "       17, 18, 19, 20, 21])"
            ]
          },
          "metadata": {},
          "execution_count": 16
        }
      ]
    },
    {
      "cell_type": "code",
      "source": [
        "scaler = MinMaxScaler()\n",
        "train_X = scaler.fit_transform(X_train_val)\n",
        "val_X = scaler.transform(X_val)\n",
        "train_set, test_loader = train_test_loader(train_X, val_X, y_train_val, y_val)\n",
        "outsize = np.unique(y_train_val).shape[0]\n",
        "inpsize = X_train.shape[1]\n",
        "\n",
        "dtype = torch.float\n",
        "best_parameters, values, experiment, model = optimize(\n",
        "    parameters=[\n",
        "        {\"name\": \"lr\", \"type\": \"range\", \"bounds\": [1e-6, 0.4], \"log_scale\": True},\n",
        "        {\"name\": \"batchsize\", \"type\": \"range\", \"bounds\": [16, 128]},\n",
        "        {\"name\": \"momentum\", \"type\": \"range\", \"bounds\": [0.0, 1.0]},    \n",
        "        {\"name\": \"max_epoch\", \"type\": \"range\", \"bounds\": [10, 100]},\n",
        "        {\"name\": \"stepsize\", \"type\": \"range\", \"bounds\": [20, 30]},     \n",
        "    ],\n",
        "  \n",
        "    evaluation_function=train_evaluate,\n",
        "    objective_name='accuracy',\n",
        ")\n",
        "\n",
        "print(best_parameters)\n",
        "means, covariances = values\n",
        "print(means)\n",
        "print(covariances)"
      ],
      "metadata": {
        "colab": {
          "base_uri": "https://localhost:8080/"
        },
        "id": "G6HfUMc5ctfJ",
        "outputId": "44fc319f-f3b3-4d2c-ff70-bcfa42ff423c"
      },
      "execution_count": 17,
      "outputs": [
        {
          "output_type": "stream",
          "name": "stderr",
          "text": [
            "[INFO 02-05 07:53:11] ax.service.utils.instantiation: Inferred value type of ParameterType.FLOAT for parameter lr. If that is not the expected value type, you can explicity specify 'value_type' ('int', 'float', 'bool' or 'str') in parameter dict.\n",
            "[INFO 02-05 07:53:11] ax.service.utils.instantiation: Inferred value type of ParameterType.INT for parameter batchsize. If that is not the expected value type, you can explicity specify 'value_type' ('int', 'float', 'bool' or 'str') in parameter dict.\n",
            "[INFO 02-05 07:53:11] ax.service.utils.instantiation: Inferred value type of ParameterType.FLOAT for parameter momentum. If that is not the expected value type, you can explicity specify 'value_type' ('int', 'float', 'bool' or 'str') in parameter dict.\n",
            "[INFO 02-05 07:53:11] ax.service.utils.instantiation: Inferred value type of ParameterType.INT for parameter max_epoch. If that is not the expected value type, you can explicity specify 'value_type' ('int', 'float', 'bool' or 'str') in parameter dict.\n",
            "[INFO 02-05 07:53:11] ax.service.utils.instantiation: Inferred value type of ParameterType.INT for parameter stepsize. If that is not the expected value type, you can explicity specify 'value_type' ('int', 'float', 'bool' or 'str') in parameter dict.\n",
            "[INFO 02-05 07:53:11] ax.service.utils.instantiation: Created search space: SearchSpace(parameters=[RangeParameter(name='lr', parameter_type=FLOAT, range=[1e-06, 0.4], log_scale=True), RangeParameter(name='batchsize', parameter_type=INT, range=[16, 128]), RangeParameter(name='momentum', parameter_type=FLOAT, range=[0.0, 1.0]), RangeParameter(name='max_epoch', parameter_type=INT, range=[10, 100]), RangeParameter(name='stepsize', parameter_type=INT, range=[20, 30])], parameter_constraints=[]).\n",
            "[INFO 02-05 07:53:11] ax.modelbridge.dispatch_utils: Using Bayesian optimization since there are more ordered parameters than there are categories for the unordered categorical parameters.\n",
            "[INFO 02-05 07:53:11] ax.modelbridge.dispatch_utils: Calculating the number of remaining initialization trials based on num_initialization_trials=None max_initialization_trials=None num_tunable_parameters=5 num_trials=None use_batch_trials=False\n",
            "[INFO 02-05 07:53:11] ax.modelbridge.dispatch_utils: calculated num_initialization_trials=10\n",
            "[INFO 02-05 07:53:11] ax.modelbridge.dispatch_utils: num_completed_initialization_trials=0 num_remaining_initialization_trials=10\n",
            "[INFO 02-05 07:53:11] ax.modelbridge.dispatch_utils: Using Bayesian Optimization generation strategy: GenerationStrategy(name='Sobol+GPEI', steps=[Sobol for 10 trials, GPEI for subsequent trials]). Iterations after 10 will take longer to generate due to model-fitting.\n",
            "[INFO 02-05 07:53:11] ax.service.managed_loop: Started full optimization with 20 steps.\n",
            "[INFO 02-05 07:53:11] ax.service.managed_loop: Running optimization trial 1...\n",
            "[INFO 02-05 07:54:02] ax.service.managed_loop: Running optimization trial 2...\n",
            "[INFO 02-05 07:57:15] ax.service.managed_loop: Running optimization trial 3...\n",
            "[INFO 02-05 07:58:16] ax.service.managed_loop: Running optimization trial 4...\n",
            "[INFO 02-05 07:59:55] ax.service.managed_loop: Running optimization trial 5...\n",
            "[INFO 02-05 08:02:48] ax.service.managed_loop: Running optimization trial 6...\n",
            "[INFO 02-05 08:04:13] ax.service.managed_loop: Running optimization trial 7...\n",
            "[INFO 02-05 08:05:48] ax.service.managed_loop: Running optimization trial 8...\n",
            "[INFO 02-05 08:07:51] ax.service.managed_loop: Running optimization trial 9...\n",
            "[INFO 02-05 08:10:07] ax.service.managed_loop: Running optimization trial 10...\n",
            "[INFO 02-05 08:12:01] ax.service.managed_loop: Running optimization trial 11...\n",
            "[INFO 02-05 08:14:10] ax.service.managed_loop: Running optimization trial 12...\n",
            "[INFO 02-05 08:16:39] ax.service.managed_loop: Running optimization trial 13...\n",
            "[INFO 02-05 08:19:12] ax.service.managed_loop: Running optimization trial 14...\n",
            "[INFO 02-05 08:21:22] ax.service.managed_loop: Running optimization trial 15...\n",
            "[INFO 02-05 08:23:27] ax.service.managed_loop: Running optimization trial 16...\n",
            "[INFO 02-05 08:25:43] ax.service.managed_loop: Running optimization trial 17...\n",
            "[INFO 02-05 08:27:35] ax.service.managed_loop: Running optimization trial 18...\n",
            "[INFO 02-05 08:29:55] ax.service.managed_loop: Running optimization trial 19...\n",
            "[INFO 02-05 08:32:10] ax.service.managed_loop: Running optimization trial 20...\n"
          ]
        },
        {
          "output_type": "stream",
          "name": "stdout",
          "text": [
            "{'lr': 0.0633860713956424, 'batchsize': 73, 'momentum': 0.0, 'max_epoch': 67, 'stepsize': 20}\n",
            "{'accuracy': 0.9590630053008493}\n",
            "{'accuracy': {'accuracy': 6.89531650260175e-05}}\n"
          ]
        }
      ]
    },
    {
      "cell_type": "code",
      "source": [
        "print(best_parameters)"
      ],
      "metadata": {
        "id": "F8jBV9snWW19",
        "outputId": "b8a1269c-f04f-4437-a4a3-876aaca1e702",
        "colab": {
          "base_uri": "https://localhost:8080/"
        }
      },
      "execution_count": 27,
      "outputs": [
        {
          "output_type": "stream",
          "name": "stdout",
          "text": [
            "{'lr': 0.001345168191464874, 'batchsize': 96, 'momentum': 0.5108462118489523, 'max_epoch': 79, 'stepsize': 29}\n"
          ]
        }
      ]
    },
    {
      "cell_type": "code",
      "source": [
        "best_objectives = np.array([[trial.objective_mean*100 for trial in experiment.trials.values()]])\n",
        "\n",
        "best_objective_plot = optimization_trace_single_method(\n",
        "    y=np.maximum.accumulate(best_objectives, axis=1),\n",
        "    title=\"Model performance vs. # of iterations\",\n",
        "    ylabel=\"Classification Accuracy, %\",\n",
        ")\n",
        "render(best_objective_plot)\n",
        "\n",
        "render(plot_contour(model=model, param_x='batchsize', param_y='lr', metric_name='accuracy'))"
      ],
      "metadata": {
        "colab": {
          "base_uri": "https://localhost:8080/",
          "height": 876
        },
        "id": "HvELK-GedaZe",
        "outputId": "6496fc0e-dba5-4c43-99af-1c7a4400162c"
      },
      "execution_count": 28,
      "outputs": [
        {
          "output_type": "display_data",
          "data": {
            "text/html": [
              "<html>\n",
              "<head><meta charset=\"utf-8\" /></head>\n",
              "<body>\n",
              "    <div>            <script src=\"https://cdnjs.cloudflare.com/ajax/libs/mathjax/2.7.5/MathJax.js?config=TeX-AMS-MML_SVG\"></script><script type=\"text/javascript\">if (window.MathJax) {MathJax.Hub.Config({SVG: {font: \"STIX-Web\"}});}</script>                <script type=\"text/javascript\">window.PlotlyConfig = {MathJaxConfig: 'local'};</script>\n",
              "        <script src=\"https://cdn.plot.ly/plotly-2.8.3.min.js\"></script>                <div id=\"e143af4c-f193-4826-9c97-ce7eb00c07b4\" class=\"plotly-graph-div\" style=\"height:525px; width:100%;\"></div>            <script type=\"text/javascript\">                                    window.PLOTLYENV=window.PLOTLYENV || {};                                    if (document.getElementById(\"e143af4c-f193-4826-9c97-ce7eb00c07b4\")) {                    Plotly.newPlot(                        \"e143af4c-f193-4826-9c97-ce7eb00c07b4\",                        [{\"hoverinfo\":\"none\",\"legendgroup\":\"\",\"line\":{\"width\":0},\"mode\":\"lines\",\"showlegend\":false,\"x\":[1,2,3,4,5,6,7,8,9,10,11,12,13,14,15,16,17,18,19,20],\"y\":[6.504065040650407,13.821138211382115,17.073170731707318,17.073170731707318,93.4959349593496,93.4959349593496,93.4959349593496,93.4959349593496,93.4959349593496,95.1219512195122,95.1219512195122,95.1219512195122,95.1219512195122,95.9349593495935,95.9349593495935,95.9349593495935,95.9349593495935,95.9349593495935,95.9349593495935,95.9349593495935],\"type\":\"scatter\"},{\"fill\":\"tonexty\",\"fillcolor\":\"rgba(128,177,211,0.3)\",\"legendgroup\":\"objective value\",\"line\":{\"color\":\"rgba(128,177,211,1)\"},\"mode\":\"lines\",\"name\":\"objective value\",\"x\":[1,2,3,4,5,6,7,8,9,10,11,12,13,14,15,16,17,18,19,20],\"y\":[6.504065040650407,13.821138211382115,17.073170731707318,17.073170731707318,93.4959349593496,93.4959349593496,93.4959349593496,93.4959349593496,93.4959349593496,95.1219512195122,95.1219512195122,95.1219512195122,95.1219512195122,95.9349593495935,95.9349593495935,95.9349593495935,95.9349593495935,95.9349593495935,95.9349593495935,95.9349593495935],\"type\":\"scatter\"},{\"fill\":\"tonexty\",\"fillcolor\":\"rgba(128,177,211,0.3)\",\"hoverinfo\":\"none\",\"legendgroup\":\"\",\"line\":{\"width\":0},\"mode\":\"lines\",\"showlegend\":false,\"x\":[1,2,3,4,5,6,7,8,9,10,11,12,13,14,15,16,17,18,19,20],\"y\":[6.504065040650407,13.821138211382115,17.073170731707318,17.073170731707318,93.4959349593496,93.4959349593496,93.4959349593496,93.4959349593496,93.4959349593496,95.1219512195122,95.1219512195122,95.1219512195122,95.1219512195122,95.9349593495935,95.9349593495935,95.9349593495935,95.9349593495935,95.9349593495935,95.9349593495935,95.9349593495935],\"type\":\"scatter\"}],                        {\"showlegend\":true,\"template\":{\"data\":{\"barpolar\":[{\"marker\":{\"line\":{\"color\":\"#E5ECF6\",\"width\":0.5},\"pattern\":{\"fillmode\":\"overlay\",\"size\":10,\"solidity\":0.2}},\"type\":\"barpolar\"}],\"bar\":[{\"error_x\":{\"color\":\"#2a3f5f\"},\"error_y\":{\"color\":\"#2a3f5f\"},\"marker\":{\"line\":{\"color\":\"#E5ECF6\",\"width\":0.5},\"pattern\":{\"fillmode\":\"overlay\",\"size\":10,\"solidity\":0.2}},\"type\":\"bar\"}],\"carpet\":[{\"aaxis\":{\"endlinecolor\":\"#2a3f5f\",\"gridcolor\":\"white\",\"linecolor\":\"white\",\"minorgridcolor\":\"white\",\"startlinecolor\":\"#2a3f5f\"},\"baxis\":{\"endlinecolor\":\"#2a3f5f\",\"gridcolor\":\"white\",\"linecolor\":\"white\",\"minorgridcolor\":\"white\",\"startlinecolor\":\"#2a3f5f\"},\"type\":\"carpet\"}],\"choropleth\":[{\"colorbar\":{\"outlinewidth\":0,\"ticks\":\"\"},\"type\":\"choropleth\"}],\"contourcarpet\":[{\"colorbar\":{\"outlinewidth\":0,\"ticks\":\"\"},\"type\":\"contourcarpet\"}],\"contour\":[{\"colorbar\":{\"outlinewidth\":0,\"ticks\":\"\"},\"colorscale\":[[0.0,\"#0d0887\"],[0.1111111111111111,\"#46039f\"],[0.2222222222222222,\"#7201a8\"],[0.3333333333333333,\"#9c179e\"],[0.4444444444444444,\"#bd3786\"],[0.5555555555555556,\"#d8576b\"],[0.6666666666666666,\"#ed7953\"],[0.7777777777777778,\"#fb9f3a\"],[0.8888888888888888,\"#fdca26\"],[1.0,\"#f0f921\"]],\"type\":\"contour\"}],\"heatmapgl\":[{\"colorbar\":{\"outlinewidth\":0,\"ticks\":\"\"},\"colorscale\":[[0.0,\"#0d0887\"],[0.1111111111111111,\"#46039f\"],[0.2222222222222222,\"#7201a8\"],[0.3333333333333333,\"#9c179e\"],[0.4444444444444444,\"#bd3786\"],[0.5555555555555556,\"#d8576b\"],[0.6666666666666666,\"#ed7953\"],[0.7777777777777778,\"#fb9f3a\"],[0.8888888888888888,\"#fdca26\"],[1.0,\"#f0f921\"]],\"type\":\"heatmapgl\"}],\"heatmap\":[{\"colorbar\":{\"outlinewidth\":0,\"ticks\":\"\"},\"colorscale\":[[0.0,\"#0d0887\"],[0.1111111111111111,\"#46039f\"],[0.2222222222222222,\"#7201a8\"],[0.3333333333333333,\"#9c179e\"],[0.4444444444444444,\"#bd3786\"],[0.5555555555555556,\"#d8576b\"],[0.6666666666666666,\"#ed7953\"],[0.7777777777777778,\"#fb9f3a\"],[0.8888888888888888,\"#fdca26\"],[1.0,\"#f0f921\"]],\"type\":\"heatmap\"}],\"histogram2dcontour\":[{\"colorbar\":{\"outlinewidth\":0,\"ticks\":\"\"},\"colorscale\":[[0.0,\"#0d0887\"],[0.1111111111111111,\"#46039f\"],[0.2222222222222222,\"#7201a8\"],[0.3333333333333333,\"#9c179e\"],[0.4444444444444444,\"#bd3786\"],[0.5555555555555556,\"#d8576b\"],[0.6666666666666666,\"#ed7953\"],[0.7777777777777778,\"#fb9f3a\"],[0.8888888888888888,\"#fdca26\"],[1.0,\"#f0f921\"]],\"type\":\"histogram2dcontour\"}],\"histogram2d\":[{\"colorbar\":{\"outlinewidth\":0,\"ticks\":\"\"},\"colorscale\":[[0.0,\"#0d0887\"],[0.1111111111111111,\"#46039f\"],[0.2222222222222222,\"#7201a8\"],[0.3333333333333333,\"#9c179e\"],[0.4444444444444444,\"#bd3786\"],[0.5555555555555556,\"#d8576b\"],[0.6666666666666666,\"#ed7953\"],[0.7777777777777778,\"#fb9f3a\"],[0.8888888888888888,\"#fdca26\"],[1.0,\"#f0f921\"]],\"type\":\"histogram2d\"}],\"histogram\":[{\"marker\":{\"pattern\":{\"fillmode\":\"overlay\",\"size\":10,\"solidity\":0.2}},\"type\":\"histogram\"}],\"mesh3d\":[{\"colorbar\":{\"outlinewidth\":0,\"ticks\":\"\"},\"type\":\"mesh3d\"}],\"parcoords\":[{\"line\":{\"colorbar\":{\"outlinewidth\":0,\"ticks\":\"\"}},\"type\":\"parcoords\"}],\"pie\":[{\"automargin\":true,\"type\":\"pie\"}],\"scatter3d\":[{\"line\":{\"colorbar\":{\"outlinewidth\":0,\"ticks\":\"\"}},\"marker\":{\"colorbar\":{\"outlinewidth\":0,\"ticks\":\"\"}},\"type\":\"scatter3d\"}],\"scattercarpet\":[{\"marker\":{\"colorbar\":{\"outlinewidth\":0,\"ticks\":\"\"}},\"type\":\"scattercarpet\"}],\"scattergeo\":[{\"marker\":{\"colorbar\":{\"outlinewidth\":0,\"ticks\":\"\"}},\"type\":\"scattergeo\"}],\"scattergl\":[{\"marker\":{\"colorbar\":{\"outlinewidth\":0,\"ticks\":\"\"}},\"type\":\"scattergl\"}],\"scattermapbox\":[{\"marker\":{\"colorbar\":{\"outlinewidth\":0,\"ticks\":\"\"}},\"type\":\"scattermapbox\"}],\"scatterpolargl\":[{\"marker\":{\"colorbar\":{\"outlinewidth\":0,\"ticks\":\"\"}},\"type\":\"scatterpolargl\"}],\"scatterpolar\":[{\"marker\":{\"colorbar\":{\"outlinewidth\":0,\"ticks\":\"\"}},\"type\":\"scatterpolar\"}],\"scatter\":[{\"marker\":{\"colorbar\":{\"outlinewidth\":0,\"ticks\":\"\"}},\"type\":\"scatter\"}],\"scatterternary\":[{\"marker\":{\"colorbar\":{\"outlinewidth\":0,\"ticks\":\"\"}},\"type\":\"scatterternary\"}],\"surface\":[{\"colorbar\":{\"outlinewidth\":0,\"ticks\":\"\"},\"colorscale\":[[0.0,\"#0d0887\"],[0.1111111111111111,\"#46039f\"],[0.2222222222222222,\"#7201a8\"],[0.3333333333333333,\"#9c179e\"],[0.4444444444444444,\"#bd3786\"],[0.5555555555555556,\"#d8576b\"],[0.6666666666666666,\"#ed7953\"],[0.7777777777777778,\"#fb9f3a\"],[0.8888888888888888,\"#fdca26\"],[1.0,\"#f0f921\"]],\"type\":\"surface\"}],\"table\":[{\"cells\":{\"fill\":{\"color\":\"#EBF0F8\"},\"line\":{\"color\":\"white\"}},\"header\":{\"fill\":{\"color\":\"#C8D4E3\"},\"line\":{\"color\":\"white\"}},\"type\":\"table\"}]},\"layout\":{\"annotationdefaults\":{\"arrowcolor\":\"#2a3f5f\",\"arrowhead\":0,\"arrowwidth\":1},\"autotypenumbers\":\"strict\",\"coloraxis\":{\"colorbar\":{\"outlinewidth\":0,\"ticks\":\"\"}},\"colorscale\":{\"diverging\":[[0,\"#8e0152\"],[0.1,\"#c51b7d\"],[0.2,\"#de77ae\"],[0.3,\"#f1b6da\"],[0.4,\"#fde0ef\"],[0.5,\"#f7f7f7\"],[0.6,\"#e6f5d0\"],[0.7,\"#b8e186\"],[0.8,\"#7fbc41\"],[0.9,\"#4d9221\"],[1,\"#276419\"]],\"sequential\":[[0.0,\"#0d0887\"],[0.1111111111111111,\"#46039f\"],[0.2222222222222222,\"#7201a8\"],[0.3333333333333333,\"#9c179e\"],[0.4444444444444444,\"#bd3786\"],[0.5555555555555556,\"#d8576b\"],[0.6666666666666666,\"#ed7953\"],[0.7777777777777778,\"#fb9f3a\"],[0.8888888888888888,\"#fdca26\"],[1.0,\"#f0f921\"]],\"sequentialminus\":[[0.0,\"#0d0887\"],[0.1111111111111111,\"#46039f\"],[0.2222222222222222,\"#7201a8\"],[0.3333333333333333,\"#9c179e\"],[0.4444444444444444,\"#bd3786\"],[0.5555555555555556,\"#d8576b\"],[0.6666666666666666,\"#ed7953\"],[0.7777777777777778,\"#fb9f3a\"],[0.8888888888888888,\"#fdca26\"],[1.0,\"#f0f921\"]]},\"colorway\":[\"#636efa\",\"#EF553B\",\"#00cc96\",\"#ab63fa\",\"#FFA15A\",\"#19d3f3\",\"#FF6692\",\"#B6E880\",\"#FF97FF\",\"#FECB52\"],\"font\":{\"color\":\"#2a3f5f\"},\"geo\":{\"bgcolor\":\"white\",\"lakecolor\":\"white\",\"landcolor\":\"#E5ECF6\",\"showlakes\":true,\"showland\":true,\"subunitcolor\":\"white\"},\"hoverlabel\":{\"align\":\"left\"},\"hovermode\":\"closest\",\"mapbox\":{\"style\":\"light\"},\"paper_bgcolor\":\"white\",\"plot_bgcolor\":\"#E5ECF6\",\"polar\":{\"angularaxis\":{\"gridcolor\":\"white\",\"linecolor\":\"white\",\"ticks\":\"\"},\"bgcolor\":\"#E5ECF6\",\"radialaxis\":{\"gridcolor\":\"white\",\"linecolor\":\"white\",\"ticks\":\"\"}},\"scene\":{\"xaxis\":{\"backgroundcolor\":\"#E5ECF6\",\"gridcolor\":\"white\",\"gridwidth\":2,\"linecolor\":\"white\",\"showbackground\":true,\"ticks\":\"\",\"zerolinecolor\":\"white\"},\"yaxis\":{\"backgroundcolor\":\"#E5ECF6\",\"gridcolor\":\"white\",\"gridwidth\":2,\"linecolor\":\"white\",\"showbackground\":true,\"ticks\":\"\",\"zerolinecolor\":\"white\"},\"zaxis\":{\"backgroundcolor\":\"#E5ECF6\",\"gridcolor\":\"white\",\"gridwidth\":2,\"linecolor\":\"white\",\"showbackground\":true,\"ticks\":\"\",\"zerolinecolor\":\"white\"}},\"shapedefaults\":{\"line\":{\"color\":\"#2a3f5f\"}},\"ternary\":{\"aaxis\":{\"gridcolor\":\"white\",\"linecolor\":\"white\",\"ticks\":\"\"},\"baxis\":{\"gridcolor\":\"white\",\"linecolor\":\"white\",\"ticks\":\"\"},\"bgcolor\":\"#E5ECF6\",\"caxis\":{\"gridcolor\":\"white\",\"linecolor\":\"white\",\"ticks\":\"\"}},\"title\":{\"x\":0.05},\"xaxis\":{\"automargin\":true,\"gridcolor\":\"white\",\"linecolor\":\"white\",\"ticks\":\"\",\"title\":{\"standoff\":15},\"zerolinecolor\":\"white\",\"zerolinewidth\":2},\"yaxis\":{\"automargin\":true,\"gridcolor\":\"white\",\"linecolor\":\"white\",\"ticks\":\"\",\"title\":{\"standoff\":15},\"zerolinecolor\":\"white\",\"zerolinewidth\":2}}},\"title\":{\"text\":\"Model performance vs. # of iterations\"},\"xaxis\":{\"title\":{\"text\":\"Iteration\"}},\"yaxis\":{\"title\":{\"text\":\"Classification Accuracy, %\"}}},                        {\"responsive\": true}                    ).then(function(){\n",
              "                            \n",
              "var gd = document.getElementById('e143af4c-f193-4826-9c97-ce7eb00c07b4');\n",
              "var x = new MutationObserver(function (mutations, observer) {{\n",
              "        var display = window.getComputedStyle(gd).display;\n",
              "        if (!display || display === 'none') {{\n",
              "            console.log([gd, 'removed!']);\n",
              "            Plotly.purge(gd);\n",
              "            observer.disconnect();\n",
              "        }}\n",
              "}});\n",
              "\n",
              "// Listen for the removal of the full notebook cells\n",
              "var notebookContainer = gd.closest('#notebook-container');\n",
              "if (notebookContainer) {{\n",
              "    x.observe(notebookContainer, {childList: true});\n",
              "}}\n",
              "\n",
              "// Listen for the clearing of the current output cell\n",
              "var outputEl = gd.closest('.output');\n",
              "if (outputEl) {{\n",
              "    x.observe(outputEl, {childList: true});\n",
              "}}\n",
              "\n",
              "                        })                };                            </script>        </div>\n",
              "</body>\n",
              "</html>"
            ]
          },
          "metadata": {}
        },
        {
          "output_type": "error",
          "ename": "AttributeError",
          "evalue": "ignored",
          "traceback": [
            "\u001b[0;31m---------------------------------------------------------------------------\u001b[0m",
            "\u001b[0;31mAttributeError\u001b[0m                            Traceback (most recent call last)",
            "\u001b[0;32m<ipython-input-28-9a568f8924df>\u001b[0m in \u001b[0;36m<module>\u001b[0;34m\u001b[0m\n\u001b[1;32m      8\u001b[0m \u001b[0mrender\u001b[0m\u001b[0;34m(\u001b[0m\u001b[0mbest_objective_plot\u001b[0m\u001b[0;34m)\u001b[0m\u001b[0;34m\u001b[0m\u001b[0;34m\u001b[0m\u001b[0m\n\u001b[1;32m      9\u001b[0m \u001b[0;34m\u001b[0m\u001b[0m\n\u001b[0;32m---> 10\u001b[0;31m \u001b[0mrender\u001b[0m\u001b[0;34m(\u001b[0m\u001b[0mplot_contour\u001b[0m\u001b[0;34m(\u001b[0m\u001b[0mmodel\u001b[0m\u001b[0;34m=\u001b[0m\u001b[0mmodel\u001b[0m\u001b[0;34m,\u001b[0m \u001b[0mparam_x\u001b[0m\u001b[0;34m=\u001b[0m\u001b[0;34m'batchsize'\u001b[0m\u001b[0;34m,\u001b[0m \u001b[0mparam_y\u001b[0m\u001b[0;34m=\u001b[0m\u001b[0;34m'lr'\u001b[0m\u001b[0;34m,\u001b[0m \u001b[0mmetric_name\u001b[0m\u001b[0;34m=\u001b[0m\u001b[0;34m'accuracy'\u001b[0m\u001b[0;34m)\u001b[0m\u001b[0;34m)\u001b[0m\u001b[0;34m\u001b[0m\u001b[0;34m\u001b[0m\u001b[0m\n\u001b[0m",
            "\u001b[0;32m/usr/local/lib/python3.8/dist-packages/ax/plot/contour.py\u001b[0m in \u001b[0;36mplot_contour\u001b[0;34m(model, param_x, param_y, metric_name, generator_runs_dict, relative, density, slice_values, lower_is_better, fixed_features, trial_index)\u001b[0m\n\u001b[1;32m    314\u001b[0m     \"\"\"\n\u001b[1;32m    315\u001b[0m     return AxPlotConfig(\n\u001b[0;32m--> 316\u001b[0;31m         data=plot_contour_plotly(\n\u001b[0m\u001b[1;32m    317\u001b[0m             \u001b[0mmodel\u001b[0m\u001b[0;34m=\u001b[0m\u001b[0mmodel\u001b[0m\u001b[0;34m,\u001b[0m\u001b[0;34m\u001b[0m\u001b[0;34m\u001b[0m\u001b[0m\n\u001b[1;32m    318\u001b[0m             \u001b[0mparam_x\u001b[0m\u001b[0;34m=\u001b[0m\u001b[0mparam_x\u001b[0m\u001b[0;34m,\u001b[0m\u001b[0;34m\u001b[0m\u001b[0;34m\u001b[0m\u001b[0m\n",
            "\u001b[0;32m/usr/local/lib/python3.8/dist-packages/ax/plot/contour.py\u001b[0m in \u001b[0;36mplot_contour_plotly\u001b[0;34m(model, param_x, param_y, metric_name, generator_runs_dict, relative, density, slice_values, lower_is_better, fixed_features, trial_index)\u001b[0m\n\u001b[1;32m    149\u001b[0m         \u001b[0mslice_values\u001b[0m\u001b[0;34m[\u001b[0m\u001b[0;34m\"TRIAL_PARAM\"\u001b[0m\u001b[0;34m]\u001b[0m \u001b[0;34m=\u001b[0m \u001b[0mstr\u001b[0m\u001b[0;34m(\u001b[0m\u001b[0mtrial_index\u001b[0m\u001b[0;34m)\u001b[0m\u001b[0;34m\u001b[0m\u001b[0;34m\u001b[0m\u001b[0m\n\u001b[1;32m    150\u001b[0m \u001b[0;34m\u001b[0m\u001b[0m\n\u001b[0;32m--> 151\u001b[0;31m     data, f_plt, sd_plt, grid_x, grid_y, scales = _get_contour_predictions(\n\u001b[0m\u001b[1;32m    152\u001b[0m         \u001b[0mmodel\u001b[0m\u001b[0;34m=\u001b[0m\u001b[0mmodel\u001b[0m\u001b[0;34m,\u001b[0m\u001b[0;34m\u001b[0m\u001b[0;34m\u001b[0m\u001b[0m\n\u001b[1;32m    153\u001b[0m         \u001b[0mx_param_name\u001b[0m\u001b[0;34m=\u001b[0m\u001b[0mparam_x\u001b[0m\u001b[0;34m,\u001b[0m\u001b[0;34m\u001b[0m\u001b[0;34m\u001b[0m\u001b[0m\n",
            "\u001b[0;32m/usr/local/lib/python3.8/dist-packages/ax/plot/contour.py\u001b[0m in \u001b[0;36m_get_contour_predictions\u001b[0;34m(model, x_param_name, y_param_name, metric, generator_runs_dict, density, slice_values, fixed_features)\u001b[0m\n\u001b[1;32m     64\u001b[0m     \u001b[0mare\u001b[0m \u001b[0mbeing\u001b[0m \u001b[0msliced\u001b[0m \u001b[0mon\u001b[0m\u001b[0;34m.\u001b[0m\u001b[0;34m\u001b[0m\u001b[0;34m\u001b[0m\u001b[0m\n\u001b[1;32m     65\u001b[0m     \"\"\"\n\u001b[0;32m---> 66\u001b[0;31m     \u001b[0mx_param\u001b[0m \u001b[0;34m=\u001b[0m \u001b[0mget_range_parameter\u001b[0m\u001b[0;34m(\u001b[0m\u001b[0mmodel\u001b[0m\u001b[0;34m,\u001b[0m \u001b[0mx_param_name\u001b[0m\u001b[0;34m)\u001b[0m\u001b[0;34m\u001b[0m\u001b[0;34m\u001b[0m\u001b[0m\n\u001b[0m\u001b[1;32m     67\u001b[0m     \u001b[0my_param\u001b[0m \u001b[0;34m=\u001b[0m \u001b[0mget_range_parameter\u001b[0m\u001b[0;34m(\u001b[0m\u001b[0mmodel\u001b[0m\u001b[0;34m,\u001b[0m \u001b[0my_param_name\u001b[0m\u001b[0;34m)\u001b[0m\u001b[0;34m\u001b[0m\u001b[0;34m\u001b[0m\u001b[0m\n\u001b[1;32m     68\u001b[0m \u001b[0;34m\u001b[0m\u001b[0m\n",
            "\u001b[0;32m/usr/local/lib/python3.8/dist-packages/ax/plot/helper.py\u001b[0m in \u001b[0;36mget_range_parameter\u001b[0;34m(model, param_name)\u001b[0m\n\u001b[1;32m    389\u001b[0m     \"\"\"\n\u001b[1;32m    390\u001b[0m \u001b[0;34m\u001b[0m\u001b[0m\n\u001b[0;32m--> 391\u001b[0;31m     \u001b[0mrange_param\u001b[0m \u001b[0;34m=\u001b[0m \u001b[0mmodel\u001b[0m\u001b[0;34m.\u001b[0m\u001b[0mmodel_space\u001b[0m\u001b[0;34m.\u001b[0m\u001b[0mparameters\u001b[0m\u001b[0;34m.\u001b[0m\u001b[0mget\u001b[0m\u001b[0;34m(\u001b[0m\u001b[0mparam_name\u001b[0m\u001b[0;34m)\u001b[0m\u001b[0;34m\u001b[0m\u001b[0;34m\u001b[0m\u001b[0m\n\u001b[0m\u001b[1;32m    392\u001b[0m     \u001b[0;32mif\u001b[0m \u001b[0mrange_param\u001b[0m \u001b[0;32mis\u001b[0m \u001b[0;32mNone\u001b[0m\u001b[0;34m:\u001b[0m\u001b[0;34m\u001b[0m\u001b[0;34m\u001b[0m\u001b[0m\n\u001b[1;32m    393\u001b[0m         \u001b[0;32mraise\u001b[0m \u001b[0mValueError\u001b[0m\u001b[0;34m(\u001b[0m\u001b[0;34mf\"Parameter `{param_name}` does not exist.\"\u001b[0m\u001b[0;34m)\u001b[0m\u001b[0;34m\u001b[0m\u001b[0;34m\u001b[0m\u001b[0m\n",
            "\u001b[0;32m/usr/local/lib/python3.8/dist-packages/torch/nn/modules/module.py\u001b[0m in \u001b[0;36m__getattr__\u001b[0;34m(self, name)\u001b[0m\n\u001b[1;32m   1267\u001b[0m             \u001b[0;32mif\u001b[0m \u001b[0mname\u001b[0m \u001b[0;32min\u001b[0m \u001b[0mmodules\u001b[0m\u001b[0;34m:\u001b[0m\u001b[0;34m\u001b[0m\u001b[0;34m\u001b[0m\u001b[0m\n\u001b[1;32m   1268\u001b[0m                 \u001b[0;32mreturn\u001b[0m \u001b[0mmodules\u001b[0m\u001b[0;34m[\u001b[0m\u001b[0mname\u001b[0m\u001b[0;34m]\u001b[0m\u001b[0;34m\u001b[0m\u001b[0;34m\u001b[0m\u001b[0m\n\u001b[0;32m-> 1269\u001b[0;31m         raise AttributeError(\"'{}' object has no attribute '{}'\".format(\n\u001b[0m\u001b[1;32m   1270\u001b[0m             type(self).__name__, name))\n\u001b[1;32m   1271\u001b[0m \u001b[0;34m\u001b[0m\u001b[0m\n",
            "\u001b[0;31mAttributeError\u001b[0m: 'DNN' object has no attribute 'model_space'"
          ]
        }
      ]
    },
    {
      "cell_type": "code",
      "source": [
        "data = experiment.fetch_data()\n",
        "dff = data.df\n",
        "best_arm_name = dff.arm_name[dff['mean'] == dff['mean'].max()].values[0]\n",
        "best_arm = experiment.arms_by_name[best_arm_name]\n",
        "best_arm"
      ],
      "metadata": {
        "colab": {
          "base_uri": "https://localhost:8080/"
        },
        "id": "1dr6RbzddR22",
        "outputId": "771890a9-7d38-4c75-ae7a-abd1e65e4bf3"
      },
      "execution_count": 20,
      "outputs": [
        {
          "output_type": "execute_result",
          "data": {
            "text/plain": [
              "Arm(name='13_0', parameters={'lr': 0.001345168191464874, 'batchsize': 96, 'momentum': 0.5108462118489523, 'max_epoch': 79, 'stepsize': 29})"
            ]
          },
          "metadata": {},
          "execution_count": 20
        }
      ]
    },
    {
      "cell_type": "code",
      "source": [
        "best_parameters = best_arm.parameters"
      ],
      "metadata": {
        "id": "2o9cLa7HL06r"
      },
      "execution_count": 21,
      "outputs": []
    },
    {
      "cell_type": "code",
      "source": [
        "def optim_scheduler(net,parameters):\n",
        "  optimizer = optim.SGD(net.parameters(), # or any optimizer you prefer \n",
        "                        lr=parameters.get(\"lr\", 0.001), # 0.001 is used if no lr is specified\n",
        "                        momentum=parameters.get(\"momentum\", 0.9)\n",
        "  )\n",
        "  scheduler = optim.lr_scheduler.StepLR(\n",
        "      optimizer,\n",
        "      step_size=int(parameters.get(\"step_size\", 30)),\n",
        "      gamma=1.0,  # default is no learning rate decay\n",
        "  )\n",
        "  return optimizer, scheduler\n",
        "def extract_batch(X,y,batch_size,step,no_of_samples):\n",
        "  l = (step-1)*batch_size\n",
        "  return X[l:(l+batch_size)],y[l:min(no_of_samples,l+batch_size)]\n",
        "\n",
        "def model_training_evaluation(X_train, X_test, y_train, y_test):\n",
        "  train_X = X_train\n",
        "  test_X = X_test\n",
        "  scaler = MinMaxScaler()\n",
        "  train_X = scaler.fit_transform(train_X)\n",
        "  test_X = scaler.transform(test_X)\n",
        "  train_X = torch.from_numpy(train_X.astype(np.float32))\n",
        "  test_X = torch.from_numpy(test_X.astype(np.float32))\n",
        "  train_y =  torch.tensor(y_train.astype(np.float32))\n",
        "  test_y =  torch.tensor(y_test.astype(np.float32))\n",
        "  input_size = train_X.shape[1]\n",
        "  output_size = torch.unique(train_y).shape[0]\n",
        "  learning_rate = best_parameters['lr']\n",
        "  num_epochs = best_parameters['max_epoch']\n",
        "  n_samples = train_X.shape[0]\n",
        "  criterion = nn.CrossEntropyLoss(reduction='sum')\n",
        "  skf = StratifiedKFold(n_splits=5, shuffle=True, random_state=1)\n",
        "  net = DNN(input_size, output_size)\n",
        "  optimizer, scheduler = optim_scheduler(net,best_parameters)\n",
        "  figure, ax = plt.subplots(5,figsize=(10,10))\n",
        "  figure.tight_layout(pad=5.0)\n",
        "  cnt = 1\n",
        "  best_loss = 100000\n",
        "  best_model = None\n",
        "  best_epoch = None\n",
        "  for train_index, val_index in skf.split(X_train, y_train):\n",
        "    train_X_fold = train_X[train_index]\n",
        "    train_y_fold = train_y[train_index]\n",
        "    val_x_fold = train_X[val_index]\n",
        "    val_y_fold = train_y[val_index]\n",
        "    n_samples = train_X_fold.shape[0]\n",
        "    batch_size = best_parameters['batchsize']\n",
        "    train_loss = []\n",
        "    val_loss = []\n",
        "    print(f\"Training for fold {cnt}\")\n",
        "    for epoch in range(num_epochs):\n",
        "      step = 1\n",
        "      while(batch_size*step<=n_samples):\n",
        "        x,y =  extract_batch(train_X_fold,train_y_fold, batch_size, step, n_samples)\n",
        "        # Forward Propagation\n",
        "        y_predicted = net(x)\n",
        "        loss = criterion(y_predicted,  torch.tensor(y, dtype=torch.long))\n",
        "        # Backward propagation and update\n",
        "        loss.backward()\n",
        "        optimizer.step()\n",
        "        scheduler.step()\n",
        "        # Performing zero grad before new step\n",
        "        optimizer.zero_grad()\n",
        "        step = step+1\n",
        "      t_loss = criterion( net(train_X_fold),  torch.tensor(train_y_fold, dtype=torch.long)).item()/train_X_fold.shape[0]\n",
        "      v_loss = criterion( net(val_x_fold),  torch.tensor(val_y_fold, dtype=torch.long)).item()/val_x_fold.shape[0]\n",
        "      train_loss.append(t_loss) \n",
        "      val_loss.append(v_loss)\n",
        "      if(v_loss<best_loss):\n",
        "        best_loss = v_loss\n",
        "        best_model = net\n",
        "        best_epoch = epoch\n",
        "      print(epoch*100/num_epochs)\n",
        "    m = \"Fold \"+str(cnt)\n",
        "    ax[cnt-1].title.set_text(m)\n",
        "    ax[cnt-1].set_ylabel(\"Total Loss\")\n",
        "    ax[cnt-1].set_xlabel(\"No of Epochs\")\n",
        "    ax[cnt-1].plot(range(num_epochs),train_loss, label = \"train loss\")\n",
        "    ax[cnt-1].plot(range(num_epochs),val_loss, label = \"validation loss\")\n",
        "    cnt+=1\n",
        "  y_pred = best_model(test_X)\n",
        "  return best_model, y_pred\n"
      ],
      "metadata": {
        "id": "mp-ajUmDGvJR"
      },
      "execution_count": 22,
      "outputs": []
    },
    {
      "cell_type": "code",
      "source": [
        "start = time.time()\n",
        "model, y_pred = model_training_evaluation(X_train, X_test, y_train, y_test)\n",
        "end = time.time()\n",
        "training_time = end - start"
      ],
      "metadata": {
        "colab": {
          "base_uri": "https://localhost:8080/",
          "height": 1000
        },
        "id": "jI2RH5-wH9BK",
        "outputId": "7b305e36-1d1c-4230-8eee-647c0ce3b63f"
      },
      "execution_count": 23,
      "outputs": [
        {
          "output_type": "stream",
          "name": "stdout",
          "text": [
            "Training for fold 1\n",
            "0.0\n",
            "1.2658227848101267\n",
            "2.5316455696202533\n",
            "3.7974683544303796\n",
            "5.063291139240507\n",
            "6.329113924050633\n",
            "7.594936708860759\n",
            "8.860759493670885\n",
            "10.126582278481013\n",
            "11.39240506329114\n",
            "12.658227848101266\n",
            "13.924050632911392\n",
            "15.189873417721518\n",
            "16.455696202531644\n",
            "17.72151898734177\n",
            "18.9873417721519\n",
            "20.253164556962027\n",
            "21.518987341772153\n",
            "22.78481012658228\n",
            "24.050632911392405\n",
            "25.31645569620253\n",
            "26.582278481012658\n",
            "27.848101265822784\n",
            "29.11392405063291\n",
            "30.379746835443036\n",
            "31.645569620253166\n",
            "32.91139240506329\n",
            "34.177215189873415\n",
            "35.44303797468354\n",
            "36.70886075949367\n",
            "37.9746835443038\n",
            "39.24050632911393\n",
            "40.50632911392405\n",
            "41.77215189873418\n",
            "43.037974683544306\n",
            "44.30379746835443\n",
            "45.56962025316456\n",
            "46.835443037974684\n",
            "48.10126582278481\n",
            "49.36708860759494\n",
            "50.63291139240506\n",
            "51.89873417721519\n",
            "53.164556962025316\n",
            "54.43037974683544\n",
            "55.69620253164557\n",
            "56.962025316455694\n",
            "58.22784810126582\n",
            "59.49367088607595\n",
            "60.75949367088607\n",
            "62.0253164556962\n",
            "63.29113924050633\n",
            "64.55696202531645\n",
            "65.82278481012658\n",
            "67.0886075949367\n",
            "68.35443037974683\n",
            "69.62025316455696\n",
            "70.88607594936708\n",
            "72.15189873417721\n",
            "73.41772151898734\n",
            "74.68354430379746\n",
            "75.9493670886076\n",
            "77.21518987341773\n",
            "78.48101265822785\n",
            "79.74683544303798\n",
            "81.0126582278481\n",
            "82.27848101265823\n",
            "83.54430379746836\n",
            "84.81012658227849\n",
            "86.07594936708861\n",
            "87.34177215189874\n",
            "88.60759493670886\n",
            "89.87341772151899\n",
            "91.13924050632912\n",
            "92.40506329113924\n",
            "93.67088607594937\n",
            "94.9367088607595\n",
            "96.20253164556962\n",
            "97.46835443037975\n",
            "98.73417721518987\n",
            "Training for fold 2\n",
            "0.0\n",
            "1.2658227848101267\n",
            "2.5316455696202533\n",
            "3.7974683544303796\n",
            "5.063291139240507\n",
            "6.329113924050633\n",
            "7.594936708860759\n",
            "8.860759493670885\n",
            "10.126582278481013\n",
            "11.39240506329114\n",
            "12.658227848101266\n",
            "13.924050632911392\n",
            "15.189873417721518\n",
            "16.455696202531644\n",
            "17.72151898734177\n",
            "18.9873417721519\n",
            "20.253164556962027\n",
            "21.518987341772153\n",
            "22.78481012658228\n",
            "24.050632911392405\n",
            "25.31645569620253\n",
            "26.582278481012658\n",
            "27.848101265822784\n",
            "29.11392405063291\n",
            "30.379746835443036\n",
            "31.645569620253166\n",
            "32.91139240506329\n",
            "34.177215189873415\n",
            "35.44303797468354\n",
            "36.70886075949367\n",
            "37.9746835443038\n",
            "39.24050632911393\n",
            "40.50632911392405\n",
            "41.77215189873418\n",
            "43.037974683544306\n",
            "44.30379746835443\n",
            "45.56962025316456\n",
            "46.835443037974684\n",
            "48.10126582278481\n",
            "49.36708860759494\n",
            "50.63291139240506\n",
            "51.89873417721519\n",
            "53.164556962025316\n",
            "54.43037974683544\n",
            "55.69620253164557\n",
            "56.962025316455694\n",
            "58.22784810126582\n",
            "59.49367088607595\n",
            "60.75949367088607\n",
            "62.0253164556962\n",
            "63.29113924050633\n",
            "64.55696202531645\n",
            "65.82278481012658\n",
            "67.0886075949367\n",
            "68.35443037974683\n",
            "69.62025316455696\n",
            "70.88607594936708\n",
            "72.15189873417721\n",
            "73.41772151898734\n",
            "74.68354430379746\n",
            "75.9493670886076\n",
            "77.21518987341773\n",
            "78.48101265822785\n",
            "79.74683544303798\n",
            "81.0126582278481\n",
            "82.27848101265823\n",
            "83.54430379746836\n",
            "84.81012658227849\n",
            "86.07594936708861\n",
            "87.34177215189874\n",
            "88.60759493670886\n",
            "89.87341772151899\n",
            "91.13924050632912\n",
            "92.40506329113924\n",
            "93.67088607594937\n",
            "94.9367088607595\n",
            "96.20253164556962\n",
            "97.46835443037975\n",
            "98.73417721518987\n",
            "Training for fold 3\n",
            "0.0\n",
            "1.2658227848101267\n",
            "2.5316455696202533\n",
            "3.7974683544303796\n",
            "5.063291139240507\n",
            "6.329113924050633\n",
            "7.594936708860759\n",
            "8.860759493670885\n",
            "10.126582278481013\n",
            "11.39240506329114\n",
            "12.658227848101266\n",
            "13.924050632911392\n",
            "15.189873417721518\n",
            "16.455696202531644\n",
            "17.72151898734177\n",
            "18.9873417721519\n",
            "20.253164556962027\n",
            "21.518987341772153\n",
            "22.78481012658228\n",
            "24.050632911392405\n",
            "25.31645569620253\n",
            "26.582278481012658\n",
            "27.848101265822784\n",
            "29.11392405063291\n",
            "30.379746835443036\n",
            "31.645569620253166\n",
            "32.91139240506329\n",
            "34.177215189873415\n",
            "35.44303797468354\n",
            "36.70886075949367\n",
            "37.9746835443038\n",
            "39.24050632911393\n",
            "40.50632911392405\n",
            "41.77215189873418\n",
            "43.037974683544306\n",
            "44.30379746835443\n",
            "45.56962025316456\n",
            "46.835443037974684\n",
            "48.10126582278481\n",
            "49.36708860759494\n",
            "50.63291139240506\n",
            "51.89873417721519\n",
            "53.164556962025316\n",
            "54.43037974683544\n",
            "55.69620253164557\n",
            "56.962025316455694\n",
            "58.22784810126582\n",
            "59.49367088607595\n",
            "60.75949367088607\n",
            "62.0253164556962\n",
            "63.29113924050633\n",
            "64.55696202531645\n",
            "65.82278481012658\n",
            "67.0886075949367\n",
            "68.35443037974683\n",
            "69.62025316455696\n",
            "70.88607594936708\n",
            "72.15189873417721\n",
            "73.41772151898734\n",
            "74.68354430379746\n",
            "75.9493670886076\n",
            "77.21518987341773\n",
            "78.48101265822785\n",
            "79.74683544303798\n",
            "81.0126582278481\n",
            "82.27848101265823\n",
            "83.54430379746836\n",
            "84.81012658227849\n",
            "86.07594936708861\n",
            "87.34177215189874\n",
            "88.60759493670886\n",
            "89.87341772151899\n",
            "91.13924050632912\n",
            "92.40506329113924\n",
            "93.67088607594937\n",
            "94.9367088607595\n",
            "96.20253164556962\n",
            "97.46835443037975\n",
            "98.73417721518987\n",
            "Training for fold 4\n",
            "0.0\n",
            "1.2658227848101267\n",
            "2.5316455696202533\n",
            "3.7974683544303796\n",
            "5.063291139240507\n",
            "6.329113924050633\n",
            "7.594936708860759\n",
            "8.860759493670885\n",
            "10.126582278481013\n",
            "11.39240506329114\n",
            "12.658227848101266\n",
            "13.924050632911392\n",
            "15.189873417721518\n",
            "16.455696202531644\n",
            "17.72151898734177\n",
            "18.9873417721519\n",
            "20.253164556962027\n",
            "21.518987341772153\n",
            "22.78481012658228\n",
            "24.050632911392405\n",
            "25.31645569620253\n",
            "26.582278481012658\n",
            "27.848101265822784\n",
            "29.11392405063291\n",
            "30.379746835443036\n",
            "31.645569620253166\n",
            "32.91139240506329\n",
            "34.177215189873415\n",
            "35.44303797468354\n",
            "36.70886075949367\n",
            "37.9746835443038\n",
            "39.24050632911393\n",
            "40.50632911392405\n",
            "41.77215189873418\n",
            "43.037974683544306\n",
            "44.30379746835443\n",
            "45.56962025316456\n",
            "46.835443037974684\n",
            "48.10126582278481\n",
            "49.36708860759494\n",
            "50.63291139240506\n",
            "51.89873417721519\n",
            "53.164556962025316\n",
            "54.43037974683544\n",
            "55.69620253164557\n",
            "56.962025316455694\n",
            "58.22784810126582\n",
            "59.49367088607595\n",
            "60.75949367088607\n",
            "62.0253164556962\n",
            "63.29113924050633\n",
            "64.55696202531645\n",
            "65.82278481012658\n",
            "67.0886075949367\n",
            "68.35443037974683\n",
            "69.62025316455696\n",
            "70.88607594936708\n",
            "72.15189873417721\n",
            "73.41772151898734\n",
            "74.68354430379746\n",
            "75.9493670886076\n",
            "77.21518987341773\n",
            "78.48101265822785\n",
            "79.74683544303798\n",
            "81.0126582278481\n",
            "82.27848101265823\n",
            "83.54430379746836\n",
            "84.81012658227849\n",
            "86.07594936708861\n",
            "87.34177215189874\n",
            "88.60759493670886\n",
            "89.87341772151899\n",
            "91.13924050632912\n",
            "92.40506329113924\n",
            "93.67088607594937\n",
            "94.9367088607595\n",
            "96.20253164556962\n",
            "97.46835443037975\n",
            "98.73417721518987\n",
            "Training for fold 5\n",
            "0.0\n",
            "1.2658227848101267\n",
            "2.5316455696202533\n",
            "3.7974683544303796\n",
            "5.063291139240507\n",
            "6.329113924050633\n",
            "7.594936708860759\n",
            "8.860759493670885\n",
            "10.126582278481013\n",
            "11.39240506329114\n",
            "12.658227848101266\n",
            "13.924050632911392\n",
            "15.189873417721518\n",
            "16.455696202531644\n",
            "17.72151898734177\n",
            "18.9873417721519\n",
            "20.253164556962027\n",
            "21.518987341772153\n",
            "22.78481012658228\n",
            "24.050632911392405\n",
            "25.31645569620253\n",
            "26.582278481012658\n",
            "27.848101265822784\n",
            "29.11392405063291\n",
            "30.379746835443036\n",
            "31.645569620253166\n",
            "32.91139240506329\n",
            "34.177215189873415\n",
            "35.44303797468354\n",
            "36.70886075949367\n",
            "37.9746835443038\n",
            "39.24050632911393\n",
            "40.50632911392405\n",
            "41.77215189873418\n",
            "43.037974683544306\n",
            "44.30379746835443\n",
            "45.56962025316456\n",
            "46.835443037974684\n",
            "48.10126582278481\n",
            "49.36708860759494\n",
            "50.63291139240506\n",
            "51.89873417721519\n",
            "53.164556962025316\n",
            "54.43037974683544\n",
            "55.69620253164557\n",
            "56.962025316455694\n",
            "58.22784810126582\n",
            "59.49367088607595\n",
            "60.75949367088607\n",
            "62.0253164556962\n",
            "63.29113924050633\n",
            "64.55696202531645\n",
            "65.82278481012658\n",
            "67.0886075949367\n",
            "68.35443037974683\n",
            "69.62025316455696\n",
            "70.88607594936708\n",
            "72.15189873417721\n",
            "73.41772151898734\n",
            "74.68354430379746\n",
            "75.9493670886076\n",
            "77.21518987341773\n",
            "78.48101265822785\n",
            "79.74683544303798\n",
            "81.0126582278481\n",
            "82.27848101265823\n",
            "83.54430379746836\n",
            "84.81012658227849\n",
            "86.07594936708861\n",
            "87.34177215189874\n",
            "88.60759493670886\n",
            "89.87341772151899\n",
            "91.13924050632912\n",
            "92.40506329113924\n",
            "93.67088607594937\n",
            "94.9367088607595\n",
            "96.20253164556962\n",
            "97.46835443037975\n",
            "98.73417721518987\n"
          ]
        },
        {
          "output_type": "display_data",
          "data": {
            "text/plain": [
              "<Figure size 720x720 with 5 Axes>"
            ],
            "image/png": "[encoded data removed]"
          },
          "metadata": {
            "needs_background": "light"
          }
        }
      ]
    },
    {
      "cell_type": "code",
      "source": [
        "print(f\"Time took to train {training_time} seconds\")"
      ],
      "metadata": {
        "colab": {
          "base_uri": "https://localhost:8080/"
        },
        "id": "poYRvLIQMzlV",
        "outputId": "bb34da91-f729-4a0d-d2a0-98084b93d492"
      },
      "execution_count": 24,
      "outputs": [
        {
          "output_type": "stream",
          "name": "stdout",
          "text": [
            "Time took to train 620.4946472644806 seconds\n"
          ]
        }
      ]
    },
    {
      "cell_type": "code",
      "source": [
        "def cf_matrix(y_pred, test_y):\n",
        "  y_pred_softmax = torch.log_softmax(y_pred, dim = 1)\n",
        "  _, y_pred = torch.max(y_pred_softmax, dim = 1)\n",
        "  y_pred = y_pred.detach().numpy().ravel()\n",
        "  correct_pred = (y_pred == test_y).astype(np.float)\n",
        "  acc = correct_pred.sum()*100.0 / y_pred.shape[0]\n",
        "  cm = confusion_matrix(test_y.ravel(), y_pred)\n",
        "  recall = np.mean(recall_score(test_y.ravel(), y_pred, average=None))*100.0\n",
        "  precision = np.mean(precision_score(test_y.ravel(), y_pred, average=None))*100.0\n",
        "  f1 = 2*((precision*recall*1.0)/(precision+recall))\n",
        "  f,ax=plt.subplots(figsize=(20,10))\n",
        "  sns.heatmap(cm,annot=True,fmt='.0f', cmap=\"Blues\")\n",
        "  print(f\"Accuracy: {acc:.2f}%\")\n",
        "  print(f\"Precision: {precision:.2f}%\")\n",
        "  print(f\"Recall: {recall:.2f}%\")\n",
        "  print(f\"F1 score: {f1:.2f}%\")\n",
        "  plt.ylabel('Actual Values')\n",
        "  plt.xlabel('Predicted Values')\n",
        "  plt.show()\n",
        "  return cm,acc, recall, precision, f1\n"
      ],
      "metadata": {
        "id": "PeEFPALKnSX0"
      },
      "execution_count": 25,
      "outputs": []
    },
    {
      "cell_type": "code",
      "source": [
        "cm,acc, recall, precision,f1 = cf_matrix(y_pred, y_test)"
      ],
      "metadata": {
        "id": "UM7jSuudIB1a",
        "colab": {
          "base_uri": "https://localhost:8080/",
          "height": 681
        },
        "outputId": "0cfafaaa-3403-41a7-de3c-be49e577a4c4"
      },
      "execution_count": 26,
      "outputs": [
        {
          "output_type": "stream",
          "name": "stdout",
          "text": [
            "Accuracy: 88.86%\n",
            "Precision: 89.53%\n",
            "Recall: 88.90%\n",
            "F1 score: 89.21%\n"
          ]
        },
        {
          "output_type": "display_data",
          "data": {
            "text/plain": [
              "<Figure size 1440x720 with 2 Axes>"
            ],
            "image/png": "[encoded data removed]"
          },
          "metadata": {
            "needs_background": "light"
          }
        }
      ]
    },
    {
      "cell_type": "code",
      "source": [
        "pred_dict = {\"preds\":y_pred.detach().numpy(), 'y_test':y_test}\n",
        "sio.savemat(\"drive/My Drive/Dataset/alexnet_sobel_predictions(optimized).mat\", pred_dict)"
      ],
      "metadata": {
        "id": "XxEa5APvnKNV"
      },
      "execution_count": 29,
      "outputs": []
    },
    {
      "cell_type": "code",
      "source": [],
      "metadata": {
        "id": "niQR6PT7uk24"
      },
      "execution_count": null,
      "outputs": []
    }
  ]
}