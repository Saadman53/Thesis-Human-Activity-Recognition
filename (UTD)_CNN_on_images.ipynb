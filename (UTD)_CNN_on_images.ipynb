{
  "nbformat": 4,
  "nbformat_minor": 0,
  "metadata": {
    "colab": {
      "provenance": [],
      "authorship_tag": "ABX9TyN3B1QYsJk4eS0z1qS8lqLm",
      "include_colab_link": true
    },
    "kernelspec": {
      "name": "python3",
      "display_name": "Python 3"
    },
    "language_info": {
      "name": "python"
    }
  },
  "cells": [
    {
      "cell_type": "markdown",
      "metadata": {
        "id": "view-in-github",
        "colab_type": "text"
      },
      "source": [
        "<a href=\"https://colab.research.google.com/github/Saadman53/Thesis-Human-Activity-Recognition/blob/main/(UTD)_CNN_on_images.ipynb\" target=\"_parent\"><img src=\"https://colab.research.google.com/assets/colab-badge.svg\" alt=\"Open In Colab\"/></a>"
      ]
    },
    {
      "cell_type": "code",
      "execution_count": 1,
      "metadata": {
        "colab": {
          "base_uri": "https://localhost:8080/"
        },
        "id": "ndZhJAS5EiIT",
        "outputId": "2e17171b-6c03-4ee2-911d-22763bc6d975"
      },
      "outputs": [
        {
          "output_type": "stream",
          "name": "stdout",
          "text": [
            "Drive already mounted at /content/drive; to attempt to forcibly remount, call drive.mount(\"/content/drive\", force_remount=True).\n"
          ]
        }
      ],
      "source": [
        "from google.colab import drive\n",
        "drive.mount('/content/drive')\n",
        "gdrive_path = \"drive/My Drive/Dataset/UTD MHAD/utd_mhad_sobel.mat\"\n",
        "sensor_path =\"drive/My Drive/Dataset/UTD MHAD/utd_sensor_features_acc_gyro.mat\""
      ]
    },
    {
      "cell_type": "code",
      "source": [
        "!pip install ax-platform"
      ],
      "metadata": {
        "colab": {
          "base_uri": "https://localhost:8080/"
        },
        "id": "ltVCXb7TLl2G",
        "outputId": "efac6db3-fda2-4836-b8cc-e37a39362b5f"
      },
      "execution_count": 2,
      "outputs": [
        {
          "output_type": "stream",
          "name": "stdout",
          "text": [
            "Looking in indexes: https://pypi.org/simple, https://us-python.pkg.dev/colab-wheels/public/simple/\n",
            "Requirement already satisfied: ax-platform in /usr/local/lib/python3.8/dist-packages (0.2.10)\n",
            "Requirement already satisfied: jinja2 in /usr/local/lib/python3.8/dist-packages (from ax-platform) (2.11.3)\n",
            "Requirement already satisfied: plotly in /usr/local/lib/python3.8/dist-packages (from ax-platform) (5.5.0)\n",
            "Requirement already satisfied: scikit-learn in /usr/local/lib/python3.8/dist-packages (from ax-platform) (1.0.2)\n",
            "Requirement already satisfied: scipy in /usr/local/lib/python3.8/dist-packages (from ax-platform) (1.7.3)\n",
            "Requirement already satisfied: pandas in /usr/local/lib/python3.8/dist-packages (from ax-platform) (1.3.5)\n",
            "Requirement already satisfied: typeguard in /usr/local/lib/python3.8/dist-packages (from ax-platform) (2.7.1)\n",
            "Requirement already satisfied: ipywidgets<8.0.0 in /usr/local/lib/python3.8/dist-packages (from ax-platform) (7.7.1)\n",
            "Requirement already satisfied: botorch==0.8.0 in /usr/local/lib/python3.8/dist-packages (from ax-platform) (0.8.0)\n",
            "Requirement already satisfied: pyro-ppl>=1.8.2 in /usr/local/lib/python3.8/dist-packages (from botorch==0.8.0->ax-platform) (1.8.4)\n",
            "Requirement already satisfied: multipledispatch in /usr/local/lib/python3.8/dist-packages (from botorch==0.8.0->ax-platform) (0.6.0)\n",
            "Requirement already satisfied: torch>=1.11 in /usr/local/lib/python3.8/dist-packages (from botorch==0.8.0->ax-platform) (1.13.1+cu116)\n",
            "Requirement already satisfied: gpytorch==1.9.0 in /usr/local/lib/python3.8/dist-packages (from botorch==0.8.0->ax-platform) (1.9.0)\n",
            "Requirement already satisfied: linear-operator==0.2.0 in /usr/local/lib/python3.8/dist-packages (from botorch==0.8.0->ax-platform) (0.2.0)\n",
            "Requirement already satisfied: ipython-genutils~=0.2.0 in /usr/local/lib/python3.8/dist-packages (from ipywidgets<8.0.0->ax-platform) (0.2.0)\n",
            "Requirement already satisfied: ipykernel>=4.5.1 in /usr/local/lib/python3.8/dist-packages (from ipywidgets<8.0.0->ax-platform) (5.3.4)\n",
            "Requirement already satisfied: traitlets>=4.3.1 in /usr/local/lib/python3.8/dist-packages (from ipywidgets<8.0.0->ax-platform) (5.7.1)\n",
            "Requirement already satisfied: ipython>=4.0.0 in /usr/local/lib/python3.8/dist-packages (from ipywidgets<8.0.0->ax-platform) (7.9.0)\n",
            "Requirement already satisfied: widgetsnbextension~=3.6.0 in /usr/local/lib/python3.8/dist-packages (from ipywidgets<8.0.0->ax-platform) (3.6.1)\n",
            "Requirement already satisfied: jupyterlab-widgets>=1.0.0 in /usr/local/lib/python3.8/dist-packages (from ipywidgets<8.0.0->ax-platform) (3.0.5)\n",
            "Requirement already satisfied: MarkupSafe>=0.23 in /usr/local/lib/python3.8/dist-packages (from jinja2->ax-platform) (2.0.1)\n",
            "Requirement already satisfied: python-dateutil>=2.7.3 in /usr/local/lib/python3.8/dist-packages (from pandas->ax-platform) (2.8.2)\n",
            "Requirement already satisfied: numpy>=1.17.3 in /usr/local/lib/python3.8/dist-packages (from pandas->ax-platform) (1.21.6)\n",
            "Requirement already satisfied: pytz>=2017.3 in /usr/local/lib/python3.8/dist-packages (from pandas->ax-platform) (2022.7.1)\n",
            "Requirement already satisfied: tenacity>=6.2.0 in /usr/local/lib/python3.8/dist-packages (from plotly->ax-platform) (8.1.0)\n",
            "Requirement already satisfied: six in /usr/local/lib/python3.8/dist-packages (from plotly->ax-platform) (1.15.0)\n",
            "Requirement already satisfied: joblib>=0.11 in /usr/local/lib/python3.8/dist-packages (from scikit-learn->ax-platform) (1.2.0)\n",
            "Requirement already satisfied: threadpoolctl>=2.0.0 in /usr/local/lib/python3.8/dist-packages (from scikit-learn->ax-platform) (3.1.0)\n",
            "Requirement already satisfied: tornado>=4.2 in /usr/local/lib/python3.8/dist-packages (from ipykernel>=4.5.1->ipywidgets<8.0.0->ax-platform) (6.0.4)\n",
            "Requirement already satisfied: jupyter-client in /usr/local/lib/python3.8/dist-packages (from ipykernel>=4.5.1->ipywidgets<8.0.0->ax-platform) (6.1.12)\n",
            "Requirement already satisfied: decorator in /usr/local/lib/python3.8/dist-packages (from ipython>=4.0.0->ipywidgets<8.0.0->ax-platform) (4.4.2)\n",
            "Requirement already satisfied: jedi>=0.10 in /usr/local/lib/python3.8/dist-packages (from ipython>=4.0.0->ipywidgets<8.0.0->ax-platform) (0.18.2)\n",
            "Requirement already satisfied: pexpect in /usr/local/lib/python3.8/dist-packages (from ipython>=4.0.0->ipywidgets<8.0.0->ax-platform) (4.8.0)\n",
            "Requirement already satisfied: setuptools>=18.5 in /usr/local/lib/python3.8/dist-packages (from ipython>=4.0.0->ipywidgets<8.0.0->ax-platform) (57.4.0)\n",
            "Requirement already satisfied: pygments in /usr/local/lib/python3.8/dist-packages (from ipython>=4.0.0->ipywidgets<8.0.0->ax-platform) (2.6.1)\n",
            "Requirement already satisfied: prompt-toolkit<2.1.0,>=2.0.0 in /usr/local/lib/python3.8/dist-packages (from ipython>=4.0.0->ipywidgets<8.0.0->ax-platform) (2.0.10)\n",
            "Requirement already satisfied: backcall in /usr/local/lib/python3.8/dist-packages (from ipython>=4.0.0->ipywidgets<8.0.0->ax-platform) (0.2.0)\n",
            "Requirement already satisfied: pickleshare in /usr/local/lib/python3.8/dist-packages (from ipython>=4.0.0->ipywidgets<8.0.0->ax-platform) (0.7.5)\n",
            "Requirement already satisfied: pyro-api>=0.1.1 in /usr/local/lib/python3.8/dist-packages (from pyro-ppl>=1.8.2->botorch==0.8.0->ax-platform) (0.1.2)\n",
            "Requirement already satisfied: opt-einsum>=2.3.2 in /usr/local/lib/python3.8/dist-packages (from pyro-ppl>=1.8.2->botorch==0.8.0->ax-platform) (3.3.0)\n",
            "Requirement already satisfied: tqdm>=4.36 in /usr/local/lib/python3.8/dist-packages (from pyro-ppl>=1.8.2->botorch==0.8.0->ax-platform) (4.64.1)\n",
            "Requirement already satisfied: typing-extensions in /usr/local/lib/python3.8/dist-packages (from torch>=1.11->botorch==0.8.0->ax-platform) (4.4.0)\n",
            "Requirement already satisfied: notebook>=4.4.1 in /usr/local/lib/python3.8/dist-packages (from widgetsnbextension~=3.6.0->ipywidgets<8.0.0->ax-platform) (5.7.16)\n",
            "Requirement already satisfied: parso<0.9.0,>=0.8.0 in /usr/local/lib/python3.8/dist-packages (from jedi>=0.10->ipython>=4.0.0->ipywidgets<8.0.0->ax-platform) (0.8.3)\n",
            "Requirement already satisfied: jupyter-core>=4.4.0 in /usr/local/lib/python3.8/dist-packages (from notebook>=4.4.1->widgetsnbextension~=3.6.0->ipywidgets<8.0.0->ax-platform) (5.2.0)\n",
            "Requirement already satisfied: Send2Trash in /usr/local/lib/python3.8/dist-packages (from notebook>=4.4.1->widgetsnbextension~=3.6.0->ipywidgets<8.0.0->ax-platform) (1.8.0)\n",
            "Requirement already satisfied: nbformat in /usr/local/lib/python3.8/dist-packages (from notebook>=4.4.1->widgetsnbextension~=3.6.0->ipywidgets<8.0.0->ax-platform) (5.7.3)\n",
            "Requirement already satisfied: nbconvert<6.0 in /usr/local/lib/python3.8/dist-packages (from notebook>=4.4.1->widgetsnbextension~=3.6.0->ipywidgets<8.0.0->ax-platform) (5.6.1)\n",
            "Requirement already satisfied: pyzmq>=17 in /usr/local/lib/python3.8/dist-packages (from notebook>=4.4.1->widgetsnbextension~=3.6.0->ipywidgets<8.0.0->ax-platform) (23.2.1)\n",
            "Requirement already satisfied: terminado>=0.8.1 in /usr/local/lib/python3.8/dist-packages (from notebook>=4.4.1->widgetsnbextension~=3.6.0->ipywidgets<8.0.0->ax-platform) (0.13.3)\n",
            "Requirement already satisfied: prometheus-client in /usr/local/lib/python3.8/dist-packages (from notebook>=4.4.1->widgetsnbextension~=3.6.0->ipywidgets<8.0.0->ax-platform) (0.16.0)\n",
            "Requirement already satisfied: wcwidth in /usr/local/lib/python3.8/dist-packages (from prompt-toolkit<2.1.0,>=2.0.0->ipython>=4.0.0->ipywidgets<8.0.0->ax-platform) (0.2.6)\n",
            "Requirement already satisfied: ptyprocess>=0.5 in /usr/local/lib/python3.8/dist-packages (from pexpect->ipython>=4.0.0->ipywidgets<8.0.0->ax-platform) (0.7.0)\n",
            "Requirement already satisfied: platformdirs>=2.5 in /usr/local/lib/python3.8/dist-packages (from jupyter-core>=4.4.0->notebook>=4.4.1->widgetsnbextension~=3.6.0->ipywidgets<8.0.0->ax-platform) (2.6.2)\n",
            "Requirement already satisfied: entrypoints>=0.2.2 in /usr/local/lib/python3.8/dist-packages (from nbconvert<6.0->notebook>=4.4.1->widgetsnbextension~=3.6.0->ipywidgets<8.0.0->ax-platform) (0.4)\n",
            "Requirement already satisfied: testpath in /usr/local/lib/python3.8/dist-packages (from nbconvert<6.0->notebook>=4.4.1->widgetsnbextension~=3.6.0->ipywidgets<8.0.0->ax-platform) (0.6.0)\n",
            "Requirement already satisfied: pandocfilters>=1.4.1 in /usr/local/lib/python3.8/dist-packages (from nbconvert<6.0->notebook>=4.4.1->widgetsnbextension~=3.6.0->ipywidgets<8.0.0->ax-platform) (1.5.0)\n",
            "Requirement already satisfied: bleach in /usr/local/lib/python3.8/dist-packages (from nbconvert<6.0->notebook>=4.4.1->widgetsnbextension~=3.6.0->ipywidgets<8.0.0->ax-platform) (6.0.0)\n",
            "Requirement already satisfied: defusedxml in /usr/local/lib/python3.8/dist-packages (from nbconvert<6.0->notebook>=4.4.1->widgetsnbextension~=3.6.0->ipywidgets<8.0.0->ax-platform) (0.7.1)\n",
            "Requirement already satisfied: mistune<2,>=0.8.1 in /usr/local/lib/python3.8/dist-packages (from nbconvert<6.0->notebook>=4.4.1->widgetsnbextension~=3.6.0->ipywidgets<8.0.0->ax-platform) (0.8.4)\n",
            "Requirement already satisfied: jsonschema>=2.6 in /usr/local/lib/python3.8/dist-packages (from nbformat->notebook>=4.4.1->widgetsnbextension~=3.6.0->ipywidgets<8.0.0->ax-platform) (4.3.3)\n",
            "Requirement already satisfied: fastjsonschema in /usr/local/lib/python3.8/dist-packages (from nbformat->notebook>=4.4.1->widgetsnbextension~=3.6.0->ipywidgets<8.0.0->ax-platform) (2.16.2)\n",
            "Requirement already satisfied: pyrsistent!=0.17.0,!=0.17.1,!=0.17.2,>=0.14.0 in /usr/local/lib/python3.8/dist-packages (from jsonschema>=2.6->nbformat->notebook>=4.4.1->widgetsnbextension~=3.6.0->ipywidgets<8.0.0->ax-platform) (0.19.3)\n",
            "Requirement already satisfied: importlib-resources>=1.4.0 in /usr/local/lib/python3.8/dist-packages (from jsonschema>=2.6->nbformat->notebook>=4.4.1->widgetsnbextension~=3.6.0->ipywidgets<8.0.0->ax-platform) (5.10.2)\n",
            "Requirement already satisfied: attrs>=17.4.0 in /usr/local/lib/python3.8/dist-packages (from jsonschema>=2.6->nbformat->notebook>=4.4.1->widgetsnbextension~=3.6.0->ipywidgets<8.0.0->ax-platform) (22.2.0)\n",
            "Requirement already satisfied: webencodings in /usr/local/lib/python3.8/dist-packages (from bleach->nbconvert<6.0->notebook>=4.4.1->widgetsnbextension~=3.6.0->ipywidgets<8.0.0->ax-platform) (0.5.1)\n",
            "Requirement already satisfied: zipp>=3.1.0 in /usr/local/lib/python3.8/dist-packages (from importlib-resources>=1.4.0->jsonschema>=2.6->nbformat->notebook>=4.4.1->widgetsnbextension~=3.6.0->ipywidgets<8.0.0->ax-platform) (3.12.0)\n"
          ]
        }
      ]
    },
    {
      "cell_type": "code",
      "source": [
        "import pandas as pd\n",
        "import numpy as np\n",
        "import matplotlib.pyplot as plt\n",
        "import seaborn as sns\n",
        "%matplotlib inline\n",
        "import time\n",
        "\n",
        "\n",
        "from sklearn.preprocessing import MinMaxScaler\n",
        "import torch\n",
        "import torch.nn as nn\n",
        "import torch.nn.functional as F\n",
        "import torch.optim as optim\n",
        "import torch.nn.functional as F\n",
        "from torch.utils import data\n",
        "\n",
        "from torch.utils.data import DataLoader, TensorDataset\n",
        "from torch import Tensor\n",
        "import torch.optim as optim\n",
        "from ax.plot.contour import plot_contour\n",
        "from ax.plot.trace import optimization_trace_single_method\n",
        "from ax.service.managed_loop import optimize\n",
        "from ax.utils.notebook.plotting import render\n",
        "from ax.utils.tutorials.cnn_utils import train, evaluate\n",
        "\n",
        "\n",
        "import torchvision\n",
        "import torchvision.transforms as transforms\n",
        "\n",
        "\n",
        "\n",
        "import random\n",
        "from sklearn.metrics import confusion_matrix, recall_score, precision_score\n",
        "from sklearn.model_selection import train_test_split\n",
        "\n",
        "\n",
        "import warnings\n",
        "warnings.filterwarnings('ignore')\n",
        "from sklearn.metrics import classification_report\n",
        "\n",
        "\n",
        "from torch.utils.data import DataLoader, ConcatDataset\n",
        "# from torchvision import transforms\n",
        "from sklearn.model_selection  import StratifiedKFold\n",
        "\n",
        "import torch.optim.lr_scheduler as lr_scheduler\n",
        "%matplotlib inline\n",
        "\n",
        "import scipy.io as sio\n",
        "torch.autograd.set_detect_anomaly(True)\n",
        "\n",
        "\n",
        "from functools import partial\n",
        "from typing import Any, Optional\n",
        "\n",
        "import torch\n",
        "import torch.nn as nn"
      ],
      "metadata": {
        "id": "ANu_BDp0Erqy"
      },
      "execution_count": 3,
      "outputs": []
    },
    {
      "cell_type": "code",
      "source": [
        "dat = sio.loadmat(gdrive_path)"
      ],
      "metadata": {
        "id": "Y7mKacz1LuCR"
      },
      "execution_count": 4,
      "outputs": []
    },
    {
      "cell_type": "code",
      "source": [
        "X = dat['sobel'][0][1]\n",
        "y = dat['sobel'][0][5].ravel()\n",
        "files = dat['sobel'][0][4].ravel()"
      ],
      "metadata": {
        "id": "kjWKLFFyLyt0"
      },
      "execution_count": 5,
      "outputs": []
    },
    {
      "cell_type": "code",
      "source": [
        "data_transforms = transforms.Compose([\n",
        "      transforms.ToPILImage(),\n",
        "      transforms.Resize((256),interpolation=transforms.InterpolationMode.BILINEAR),\n",
        "      transforms.CenterCrop(224),\n",
        "      transforms.ToTensor(),\n",
        "      transforms.Normalize([0.485,0.456,0.406],[0.229,0.224,0.225])\n",
        "])"
      ],
      "metadata": {
        "id": "RjLgvfheT68R"
      },
      "execution_count": 6,
      "outputs": []
    },
    {
      "cell_type": "code",
      "source": [
        "data = []\n",
        "for x in X:\n",
        "  t = torch.from_numpy(x.astype(np.float32)).reshape((1,227,227))\n",
        "  t = t.expand(3,*t.shape[1:])\n",
        "  t = data_transforms(t)\n",
        "  t = t.numpy()\n",
        "  data.append(t)\n",
        "data = np.array(data)"
      ],
      "metadata": {
        "id": "MGJmx7vWT-FX"
      },
      "execution_count": 7,
      "outputs": []
    },
    {
      "cell_type": "code",
      "source": [
        "files = [x.replace(\"_depth.mat\",\"\") for x in files ]\n",
        "files = [x.replace(\" \",\"\") for x in files]\n",
        "samples = data.shape[0]\n",
        "map_filename_data = dict(zip(files, data))\n",
        "map_filename_label = dict(zip(files, y.ravel()))\n",
        "sensor_Dat = sio.loadmat(sensor_path)\n",
        "train_files = [x[0].replace(\"_inertial.mat\",\"\") for x in sensor_Dat['train_filename'].ravel()]\n",
        "test_files = [x[0].replace(\"_inertial.mat\",\"\") for x in sensor_Dat['test_filename'].ravel()]\n",
        "train_X = []\n",
        "train_y = []\n",
        "test_X = []\n",
        "test_y = []\n",
        "\n",
        "for file in train_files:\n",
        "  train_X.append(map_filename_data[file])\n",
        "  train_y.append(map_filename_label[file])\n",
        "\n",
        "for file in test_files:\n",
        "  test_X.append(map_filename_data[file])\n",
        "  test_y.append(map_filename_label[file])\n",
        "\n",
        "X_train = np.array(train_X)\n",
        "X_test = np.array(test_X)\n",
        "y_train = np.array(train_y)-1\n",
        "y_test = np.array(test_y)-1"
      ],
      "metadata": {
        "id": "MbGKxbuLMtQn"
      },
      "execution_count": 8,
      "outputs": []
    },
    {
      "cell_type": "code",
      "source": [
        "conv1 = nn.Conv2d(1,6,5)\n",
        "pool = F.avg_pool2d\n",
        "conv2 = nn.Conv2d(6,16,5)"
      ],
      "metadata": {
        "id": "Dv7FMZXNQai8"
      },
      "execution_count": 35,
      "outputs": []
    },
    {
      "cell_type": "code",
      "source": [],
      "metadata": {
        "id": "3ZW9veM1ORz9"
      },
      "execution_count": 52,
      "outputs": []
    },
    {
      "cell_type": "code",
      "source": [
        "for x in "
      ],
      "metadata": {
        "id": "uQdV3eemT0ks"
      },
      "execution_count": null,
      "outputs": []
    },
    {
      "cell_type": "code",
      "source": [],
      "metadata": {
        "colab": {
          "base_uri": "https://localhost:8080/"
        },
        "id": "s9AEicO0Q2oV",
        "outputId": "3e638b40-59e2-478b-85f0-c070fd1f746f"
      },
      "execution_count": 53,
      "outputs": [
        {
          "output_type": "execute_result",
          "data": {
            "text/plain": [
              "torch.Size([3, 224, 224])"
            ]
          },
          "metadata": {},
          "execution_count": 53
        }
      ]
    },
    {
      "cell_type": "code",
      "source": [
        "conv1 = nn.Conv2d(3,6,5)\n",
        "relu = nn.ReLU()\n",
        "max_pool = nn.MaxPool2d(2,2)\n",
        "conv2 = nn.Conv2d(6,16,5)\n",
        "avg_pool = F.avg_pool2d"
      ],
      "metadata": {
        "id": "8gNAEEWsRNdA"
      },
      "execution_count": 71,
      "outputs": []
    },
    {
      "cell_type": "code",
      "source": [
        "conv1(x).shape"
      ],
      "metadata": {
        "colab": {
          "base_uri": "https://localhost:8080/"
        },
        "id": "zrWDyuzDRTA2",
        "outputId": "d39a4581-a536-4d0e-a33a-5fcc52c3a0bd"
      },
      "execution_count": 62,
      "outputs": [
        {
          "output_type": "execute_result",
          "data": {
            "text/plain": [
              "torch.Size([6, 220, 220])"
            ]
          },
          "metadata": {},
          "execution_count": 62
        }
      ]
    },
    {
      "cell_type": "code",
      "source": [
        "max_pool(relu(conv1(x))).shape"
      ],
      "metadata": {
        "colab": {
          "base_uri": "https://localhost:8080/"
        },
        "id": "Ob2Kq8CRR01b",
        "outputId": "053250f7-c46e-45d8-d0b3-d80be389fa9a"
      },
      "execution_count": 66,
      "outputs": [
        {
          "output_type": "execute_result",
          "data": {
            "text/plain": [
              "torch.Size([6, 110, 110])"
            ]
          },
          "metadata": {},
          "execution_count": 66
        }
      ]
    },
    {
      "cell_type": "code",
      "source": [
        "conv2(max_pool(relu(conv1(x)))).shape"
      ],
      "metadata": {
        "colab": {
          "base_uri": "https://localhost:8080/"
        },
        "id": "lTVyjujva1-I",
        "outputId": "c3d5a9ca-1c99-4539-8ed3-f485f155c910"
      },
      "execution_count": 68,
      "outputs": [
        {
          "output_type": "execute_result",
          "data": {
            "text/plain": [
              "torch.Size([16, 106, 106])"
            ]
          },
          "metadata": {},
          "execution_count": 68
        }
      ]
    },
    {
      "cell_type": "code",
      "source": [
        "max_pool(relu(conv2(max_pool(relu(conv1(x)))))).shape"
      ],
      "metadata": {
        "colab": {
          "base_uri": "https://localhost:8080/"
        },
        "id": "E1QOLjdvRzGq",
        "outputId": "f446ef2a-f2d5-4a01-bce2-c1579a11244c"
      },
      "execution_count": 69,
      "outputs": [
        {
          "output_type": "execute_result",
          "data": {
            "text/plain": [
              "torch.Size([16, 53, 53])"
            ]
          },
          "metadata": {},
          "execution_count": 69
        }
      ]
    },
    {
      "cell_type": "code",
      "source": [
        "avg_pool(max_pool(relu(conv2(max_pool(relu(conv1(x)))))),2).shape"
      ],
      "metadata": {
        "colab": {
          "base_uri": "https://localhost:8080/"
        },
        "id": "QMjPiuJ3S_5m",
        "outputId": "79c43996-09dd-4522-937d-4c984406d732"
      },
      "execution_count": 73,
      "outputs": [
        {
          "output_type": "execute_result",
          "data": {
            "text/plain": [
              "torch.Size([16, 26, 26])"
            ]
          },
          "metadata": {},
          "execution_count": 73
        }
      ]
    },
    {
      "cell_type": "code",
      "source": [
        "class CNN(nn.Module):\n",
        "    def __init__(self,output_size):\n",
        "        super(CNN,self).__init__()\n",
        "        self.conv1 = nn.Conv2d(3,6,5)\n",
        "        self.max_pool = nn.MaxPool2d(2,2)\n",
        "        self.avg_pool = F.avg_pool2d\n",
        "        self.conv2 = nn.Conv2d(6,16,5)\n",
        "        # self.hidden1 = nn.Linear(16*6*6,2048)\n",
        "        # self.hidden2 = nn.Linear(2048,1024)\n",
        "        # self.hidden3 = nn.Linear(1024,512)\n",
        "        self.hidden3 = nn.Linear(16*26*26,512)\n",
        "        self.hidden4 = nn.Linear(512,256)\n",
        "        self.hidden5 = nn.Linear(256,128)\n",
        "        self.hidden6 = nn.Linear(128,64)\n",
        "        self.output = nn.Linear(64,output_size)\n",
        "        self.softmax = F.softmax\n",
        "        self.relu = nn.ReLU()\n",
        "        self.dropout = nn.Dropout(p=0.25)\n",
        "        self.batchnorm1 = nn.BatchNorm1d(2048)\n",
        "        self.batchnorm2 = nn.BatchNorm1d(1024)\n",
        "        self.batchnorm3 = nn.BatchNorm1d(512)\n",
        "        self.batchnorm4 = nn.BatchNorm1d(256)\n",
        "        self.batchnorm5 = nn.BatchNorm1d(128)\n",
        "        self.batchnorm6 = nn.BatchNorm1d(64)\n",
        "    \n",
        "    def forward(self,x):\n",
        "        out = self.max_pool(self.relu(self.conv1(x)))\n",
        "        out = self.max_pool(self.relu(self.conv2(out)))\n",
        "        #print(out.shape)\n",
        "        out = self.avg_pool(out, 2,2)\n",
        "        #print(out.shape)\n",
        "        out = out.view(-1, 16*26*26)\n",
        "        out = self.hidden3(out)\n",
        "        out = self.batchnorm3(out)\n",
        "        out = self.relu(out)\n",
        "        out = self.dropout(out)\n",
        "        \n",
        "        out = self.hidden4(out)\n",
        "        out = self.batchnorm4(out)\n",
        "        out = self.relu(out)\n",
        "        out = self.dropout(out)\n",
        "        \n",
        "        out = self.hidden5(out)\n",
        "        out = self.batchnorm5(out)\n",
        "        out = self.relu(out)\n",
        "        out = self.dropout(out)\n",
        "        \n",
        "        out = self.hidden6(out)\n",
        "        out = self.batchnorm6(out)\n",
        "        out = self.relu(out)\n",
        "        out = self.dropout(out)\n",
        "        out = self.output(out)\n",
        "        return out"
      ],
      "metadata": {
        "id": "IRrldXVoFdkr"
      },
      "execution_count": 12,
      "outputs": []
    },
    {
      "cell_type": "code",
      "source": [
        "def extract_batch(X,y,batch_size,step,no_of_samples):\n",
        "  l = (step-1)*batch_size\n",
        "  return X[l:(l+batch_size)],y[l:min(no_of_samples,l+batch_size)]\n",
        "def multi_acc(y_pred, y_test):\n",
        "    y_pred_softmax = torch.log_softmax(y_pred, dim = 1)\n",
        "    _, y_pred_tags = torch.max(y_pred_softmax, dim = 1)   \n",
        "    correct_pred = (y_pred_tags == y_test).float()\n",
        "    acc = correct_pred.sum()*1.0 / len(correct_pred)\n",
        "    acc = acc * 100\n",
        "    return acc"
      ],
      "metadata": {
        "id": "ir17OEHxFmhj"
      },
      "execution_count": 13,
      "outputs": []
    },
    {
      "cell_type": "code",
      "source": [
        "def plot_confusion_matrix(net, test_X, test_y):\n",
        "  y_pred = net(test_X)\n",
        "  y_pred_softmax = torch.log_softmax(y_pred, dim = 1)\n",
        "  _, y_pred = torch.max(y_pred_softmax, dim = 1)   \n",
        "  y_pred = y_pred.detach().numpy().ravel()\n",
        "  cm = confusion_matrix(test_y.ravel(), y_pred)\n",
        "  #tn, fp, fn, tp = cm.ravel()\n",
        "  recall = np.mean(recall_score(test_y.ravel(), y_pred, average=None))*100.0\n",
        "  precision = np.mean(precision_score(test_y.ravel(), y_pred, average=None))*100.0\n",
        "  f,ax=plt.subplots(figsize=(20,10))\n",
        "  sns.heatmap(cm,annot=True,fmt='.0f', cmap=\"Blues\")\n",
        "  plt.ylabel('Actual Values')\n",
        "  plt.xlabel('Predicted Values')\n",
        "  plt.show()\n",
        "  return cm, y_pred,recall, precision"
      ],
      "metadata": {
        "id": "9HqXnV19aOeq"
      },
      "execution_count": 14,
      "outputs": []
    },
    {
      "cell_type": "code",
      "source": [
        "def model_training_evaluation(X_train, X_test, y_train, y_test):\n",
        "  train_X = torch.from_numpy(X_train.astype(np.float32))\n",
        "  test_X = torch.from_numpy(X_test.astype(np.float32))\n",
        "  train_y =  torch.tensor(y_train)\n",
        "  test_y =  torch.tensor(y_test)\n",
        "  output_size = torch.unique(train_y).shape[0]\n",
        "  num_epochs = 100\n",
        "  n_samples = train_X.shape[0]\n",
        "  criterion = nn.CrossEntropyLoss(reduction='sum')\n",
        "  best_lr = None\n",
        "  best_loss = 100000\n",
        "  best_model = None\n",
        "  best_train_loss = None\n",
        "  best_val_loss = None\n",
        "  best_epoch = None\n",
        "  skf = StratifiedKFold(n_splits=2, shuffle=True, random_state=1)\n",
        "  for lr in [0.01]:\n",
        "    #print(f\"Learning rate: {lr}:\")\n",
        "    cnt = 1\n",
        "    figure, ax = plt.subplots(3,figsize=(12,8))\n",
        "    figure.tight_layout()\n",
        "    #model definition\n",
        "    for train_index, val_index in skf.split(X_train, y_train):\n",
        "      net = CNN( output_size)\n",
        "      optimizer = torch.optim.SGD(net.parameters(), lr=lr) \n",
        "      #scheduler = lr_scheduler.ExponentialLR(optimizer, gamma=0.9)\n",
        "      train_X_fold = train_X[train_index]\n",
        "      train_y_fold = train_y[train_index]\n",
        "      val_x_fold = train_X[val_index]\n",
        "      val_y_fold = train_y[val_index]\n",
        "      n_samples = train_X_fold.shape[0]\n",
        "      batch_size = int(n_samples/5)\n",
        "      train_loss = []\n",
        "      val_loss = []\n",
        "      print(f\"Training for fold {cnt}\")\n",
        "      for epoch in range(num_epochs):\n",
        "        step = 1\n",
        "        while(batch_size*step<=n_samples):\n",
        "          x,y =  extract_batch(train_X_fold,train_y_fold, batch_size, step, n_samples)\n",
        "          # Forward Propagation\n",
        "          y_predicted = net(x)\n",
        "          #print(batch_size,y_predicted.shape, y.shape)\n",
        "          loss = criterion(y_predicted,  torch.tensor(y, dtype=torch.long))\n",
        "          # Backward propagation and update\n",
        "          loss.backward()\n",
        "          optimizer.step()\n",
        "          # Performing zero grad before new step\n",
        "          optimizer.zero_grad()\n",
        "          step = step+1\n",
        "        #scheduler.step()\n",
        "        t_loss = criterion( net(train_X_fold),  torch.tensor(train_y_fold, dtype=torch.long)).item()/train_X_fold.shape[0]\n",
        "        v_loss = criterion( net(val_x_fold),  torch.tensor(val_y_fold, dtype=torch.long)).item()/val_x_fold.shape[0]\n",
        "        train_loss.append(t_loss) \n",
        "        val_loss.append(v_loss)\n",
        "        print(f\"Epoch {epoch+1} completed. Validation loss: {v_loss}\")\n",
        "        if(v_loss<best_loss):\n",
        "          best_lr = lr\n",
        "          best_loss = v_loss\n",
        "          best_model = net\n",
        "          best_epoch = epoch\n",
        "      #print(f\"Learning Rate: {scheduler.get_last_lr()}\")\n",
        "      m = \"Fold \"+str(cnt)\n",
        "      ax[cnt-1].title.set_text(m)\n",
        "      ax[cnt-1].set_ylabel(\"Total Loss\")\n",
        "      ax[cnt-1].set_xlabel(\"No of Epochs\")\n",
        "      ax[cnt-1].plot(range(num_epochs),train_loss, label = \"train loss\")\n",
        "      ax[cnt-1].plot(range(num_epochs),val_loss, label = \"validation loss\")\n",
        "      cnt+=1\n",
        "  y_pred = best_model(test_X)\n",
        "  acc = multi_acc(y_pred, test_y)\n",
        "  cm, pred,recall, precision = plot_confusion_matrix(best_model, test_X, y_test)\n",
        "  print(f\"Accuracy is {(acc):.2f}%\")\n",
        "  print(f\"Recall is {(recall):.2f}%\")\n",
        "  print(f\"Precision is {(precision):.2f}%\")\n"
      ],
      "metadata": {
        "id": "Q-edIewgFqjS"
      },
      "execution_count": 17,
      "outputs": []
    },
    {
      "cell_type": "code",
      "source": [
        "model_training_evaluation(X_train, X_test, y_train, y_test)"
      ],
      "metadata": {
        "colab": {
          "base_uri": "https://localhost:8080/",
          "height": 1000
        },
        "id": "K7Wah-gMJGNj",
        "outputId": "a22c41d9-a656-44ea-bc68-b4c2c0469fe5"
      },
      "execution_count": 18,
      "outputs": [
        {
          "output_type": "stream",
          "name": "stdout",
          "text": [
            "Training for fold 1\n",
            "Epoch 1 completed. Validation loss: 2.922574166839701\n",
            "Epoch 2 completed. Validation loss: 2.529205018103717\n",
            "Epoch 3 completed. Validation loss: 2.1962286356675667\n",
            "Epoch 4 completed. Validation loss: 2.029494580240345\n",
            "Epoch 5 completed. Validation loss: 1.7362853395582434\n",
            "Epoch 6 completed. Validation loss: 1.7216533268012875\n",
            "Epoch 7 completed. Validation loss: 1.556219563531717\n",
            "Epoch 8 completed. Validation loss: 1.7279401506696428\n",
            "Epoch 9 completed. Validation loss: 1.5594293841491902\n",
            "Epoch 10 completed. Validation loss: 1.469533622462884\n",
            "Epoch 11 completed. Validation loss: 1.6296953473772322\n",
            "Epoch 12 completed. Validation loss: 1.5359588318884967\n",
            "Epoch 13 completed. Validation loss: 1.292107566250519\n",
            "Epoch 14 completed. Validation loss: 1.5032597031704216\n",
            "Epoch 15 completed. Validation loss: 1.4896028334912272\n",
            "Epoch 16 completed. Validation loss: 1.4798058798146803\n",
            "Epoch 17 completed. Validation loss: 1.585366283936358\n",
            "Epoch 18 completed. Validation loss: 1.615626034150488\n",
            "Epoch 19 completed. Validation loss: 1.811751153381956\n",
            "Epoch 20 completed. Validation loss: 1.545917194151007\n",
            "Epoch 21 completed. Validation loss: 1.5525539056011213\n",
            "Epoch 22 completed. Validation loss: 1.5484548169513082\n",
            "Epoch 23 completed. Validation loss: 1.5294603113320182\n",
            "Epoch 24 completed. Validation loss: 1.6553300116149294\n",
            "Epoch 25 completed. Validation loss: 1.6384604824737854\n",
            "Epoch 26 completed. Validation loss: 1.7451244873857974\n",
            "Epoch 27 completed. Validation loss: 1.7092199990915697\n",
            "Epoch 28 completed. Validation loss: 1.5452697348357038\n",
            "Epoch 29 completed. Validation loss: 1.4905522241940925\n",
            "Epoch 30 completed. Validation loss: 1.566933666748858\n",
            "Epoch 31 completed. Validation loss: 1.6020704503867318\n",
            "Epoch 32 completed. Validation loss: 1.5842417973616592\n",
            "Epoch 33 completed. Validation loss: 1.746682201905108\n",
            "Epoch 34 completed. Validation loss: 1.6597741212559698\n",
            "Epoch 35 completed. Validation loss: 1.5619522044032912\n",
            "Epoch 36 completed. Validation loss: 1.5503874617161544\n",
            "Epoch 37 completed. Validation loss: 1.5661497401240656\n",
            "Epoch 38 completed. Validation loss: 1.7161625960340532\n",
            "Epoch 39 completed. Validation loss: 1.847933240111088\n",
            "Epoch 40 completed. Validation loss: 1.824789560514431\n",
            "Epoch 41 completed. Validation loss: 1.7908313028836171\n",
            "Epoch 42 completed. Validation loss: 1.6952418330499897\n",
            "Epoch 43 completed. Validation loss: 1.797129684904485\n",
            "Epoch 44 completed. Validation loss: 1.6485770089285714\n",
            "Epoch 45 completed. Validation loss: 1.8579225255009344\n",
            "Epoch 46 completed. Validation loss: 1.782520382903343\n",
            "Epoch 47 completed. Validation loss: 1.662996716673588\n",
            "Epoch 48 completed. Validation loss: 1.6200615258707953\n",
            "Epoch 49 completed. Validation loss: 1.6924669639612748\n",
            "Epoch 50 completed. Validation loss: 1.728092637172965\n",
            "Epoch 51 completed. Validation loss: 1.7316766783248547\n",
            "Epoch 52 completed. Validation loss: 1.743430102782392\n",
            "Epoch 53 completed. Validation loss: 1.7971680093049212\n",
            "Epoch 54 completed. Validation loss: 1.6671272353872508\n",
            "Epoch 55 completed. Validation loss: 1.864477620172342\n",
            "Epoch 56 completed. Validation loss: 1.5991801011601952\n",
            "Epoch 57 completed. Validation loss: 1.6991120905575166\n",
            "Epoch 58 completed. Validation loss: 1.7814497329863994\n",
            "Epoch 59 completed. Validation loss: 1.6523130296472694\n",
            "Epoch 60 completed. Validation loss: 1.8706470375441238\n",
            "Epoch 61 completed. Validation loss: 1.8618091063642026\n",
            "Epoch 62 completed. Validation loss: 1.8830367687136629\n",
            "Epoch 63 completed. Validation loss: 1.9724719278836171\n",
            "Epoch 64 completed. Validation loss: 1.902083590181167\n",
            "Epoch 65 completed. Validation loss: 1.8544279079500623\n",
            "Epoch 66 completed. Validation loss: 1.7810539169564992\n",
            "Epoch 67 completed. Validation loss: 1.8374862924366695\n",
            "Epoch 68 completed. Validation loss: 1.7633265498468647\n",
            "Epoch 69 completed. Validation loss: 1.8187148388834096\n",
            "Epoch 70 completed. Validation loss: 1.8203648158482142\n",
            "Epoch 71 completed. Validation loss: 2.0592497258487334\n",
            "Epoch 72 completed. Validation loss: 2.031982421875\n",
            "Epoch 73 completed. Validation loss: 1.8696459393168605\n",
            "Epoch 74 completed. Validation loss: 1.910367541138912\n",
            "Epoch 75 completed. Validation loss: 1.903321123598422\n",
            "Epoch 76 completed. Validation loss: 1.9121170804350083\n",
            "Epoch 77 completed. Validation loss: 2.0240391322544644\n",
            "Epoch 78 completed. Validation loss: 1.928444897217608\n",
            "Epoch 79 completed. Validation loss: 2.1612159500882475\n",
            "Epoch 80 completed. Validation loss: 1.8755280250726745\n",
            "Epoch 81 completed. Validation loss: 2.076765801819456\n",
            "Epoch 82 completed. Validation loss: 1.9814325376998547\n",
            "Epoch 83 completed. Validation loss: 2.0437804567457434\n",
            "Epoch 84 completed. Validation loss: 1.9746683824101952\n",
            "Epoch 85 completed. Validation loss: 1.9992187094450788\n",
            "Epoch 86 completed. Validation loss: 1.933977602328177\n",
            "Epoch 87 completed. Validation loss: 1.9491325707926703\n",
            "Epoch 88 completed. Validation loss: 1.9611810323011836\n",
            "Epoch 89 completed. Validation loss: 2.010262220008825\n",
            "Epoch 90 completed. Validation loss: 1.915721804596657\n",
            "Epoch 91 completed. Validation loss: 2.002033829292982\n",
            "Epoch 92 completed. Validation loss: 2.072755122897633\n",
            "Epoch 93 completed. Validation loss: 2.034289388561566\n",
            "Epoch 94 completed. Validation loss: 2.076499355987853\n",
            "Epoch 95 completed. Validation loss: 2.2431334435345724\n",
            "Epoch 96 completed. Validation loss: 2.0346710103690824\n",
            "Epoch 97 completed. Validation loss: 2.077842940523775\n",
            "Epoch 98 completed. Validation loss: 2.145118890806686\n",
            "Epoch 99 completed. Validation loss: 2.217384110257475\n",
            "Epoch 100 completed. Validation loss: 2.174811379061981\n",
            "Training for fold 2\n",
            "Epoch 1 completed. Validation loss: 2.949773541320598\n",
            "Epoch 2 completed. Validation loss: 2.4085030286415074\n",
            "Epoch 3 completed. Validation loss: 2.1580311721345513\n",
            "Epoch 4 completed. Validation loss: 2.4490135420992525\n",
            "Epoch 5 completed. Validation loss: 1.926230801300353\n",
            "Epoch 6 completed. Validation loss: 1.846291982454319\n",
            "Epoch 7 completed. Validation loss: 1.7037548179246262\n",
            "Epoch 8 completed. Validation loss: 1.570172788296823\n",
            "Epoch 9 completed. Validation loss: 1.5271491877660404\n",
            "Epoch 10 completed. Validation loss: 1.691468907353094\n",
            "Epoch 11 completed. Validation loss: 1.5043141311189265\n",
            "Epoch 12 completed. Validation loss: 1.5053894448517962\n",
            "Epoch 13 completed. Validation loss: 1.5114908313434385\n",
            "Epoch 14 completed. Validation loss: 1.5338109418799315\n",
            "Epoch 15 completed. Validation loss: 1.3378450007137666\n",
            "Epoch 16 completed. Validation loss: 1.4754071916852678\n",
            "Epoch 17 completed. Validation loss: 1.5271318505372715\n",
            "Epoch 18 completed. Validation loss: 1.447576681244809\n",
            "Epoch 19 completed. Validation loss: 1.5448347833069456\n",
            "Epoch 20 completed. Validation loss: 1.4052148356390157\n",
            "Epoch 21 completed. Validation loss: 1.4306568640015054\n",
            "Epoch 22 completed. Validation loss: 1.4945145413725083\n",
            "Epoch 23 completed. Validation loss: 1.5491198162699855\n",
            "Epoch 24 completed. Validation loss: 1.3836527979651163\n",
            "Epoch 25 completed. Validation loss: 1.45403941208342\n",
            "Epoch 26 completed. Validation loss: 1.4955368295460445\n",
            "Epoch 27 completed. Validation loss: 1.5872002788556374\n",
            "Epoch 28 completed. Validation loss: 1.481928524384863\n",
            "Epoch 29 completed. Validation loss: 1.4596020264482974\n",
            "Epoch 30 completed. Validation loss: 1.71590872222799\n",
            "Epoch 31 completed. Validation loss: 1.5532947426222488\n",
            "Epoch 32 completed. Validation loss: 1.4260451611490346\n",
            "Epoch 33 completed. Validation loss: 1.4343497951165387\n",
            "Epoch 34 completed. Validation loss: 1.628261426754568\n",
            "Epoch 35 completed. Validation loss: 1.7581979745250207\n",
            "Epoch 36 completed. Validation loss: 1.6832571441549002\n",
            "Epoch 37 completed. Validation loss: 1.4104315165269414\n",
            "Epoch 38 completed. Validation loss: 1.486611401123858\n",
            "Epoch 39 completed. Validation loss: 1.4889737252777202\n",
            "Epoch 40 completed. Validation loss: 1.4543960926144621\n",
            "Epoch 41 completed. Validation loss: 1.5243331554324129\n",
            "Epoch 42 completed. Validation loss: 1.4626455718892752\n",
            "Epoch 43 completed. Validation loss: 1.5803531887523359\n",
            "Epoch 44 completed. Validation loss: 1.579104299957174\n",
            "Epoch 45 completed. Validation loss: 1.5935986287570079\n",
            "Epoch 46 completed. Validation loss: 1.5790636436487748\n",
            "Epoch 47 completed. Validation loss: 1.690955482052014\n",
            "Epoch 48 completed. Validation loss: 1.7245363761420265\n",
            "Epoch 49 completed. Validation loss: 1.7426646286466985\n",
            "Epoch 50 completed. Validation loss: 1.753250882475083\n",
            "Epoch 51 completed. Validation loss: 1.6060171539205252\n",
            "Epoch 52 completed. Validation loss: 1.7017147026188746\n",
            "Epoch 53 completed. Validation loss: 1.8198337491564576\n",
            "Epoch 54 completed. Validation loss: 1.6889203347240969\n",
            "Epoch 55 completed. Validation loss: 1.716120418916113\n",
            "Epoch 56 completed. Validation loss: 1.749294547147529\n",
            "Epoch 57 completed. Validation loss: 1.8164666768324336\n",
            "Epoch 58 completed. Validation loss: 1.6584641973045577\n",
            "Epoch 59 completed. Validation loss: 1.6843624685293812\n",
            "Epoch 60 completed. Validation loss: 1.6312860127699336\n",
            "Epoch 61 completed. Validation loss: 1.7625487064602368\n",
            "Epoch 62 completed. Validation loss: 1.6551236884538518\n",
            "Epoch 63 completed. Validation loss: 1.8251324523723007\n",
            "Epoch 64 completed. Validation loss: 1.676074360692224\n",
            "Epoch 65 completed. Validation loss: 1.798578103911441\n",
            "Epoch 66 completed. Validation loss: 1.8622746768583887\n",
            "Epoch 67 completed. Validation loss: 1.8533416443884967\n",
            "Epoch 68 completed. Validation loss: 1.7142263013263082\n",
            "Epoch 69 completed. Validation loss: 1.6818692533676807\n",
            "Epoch 70 completed. Validation loss: 1.7946959840894934\n",
            "Epoch 71 completed. Validation loss: 1.7887469827138704\n",
            "Epoch 72 completed. Validation loss: 1.874163960301599\n",
            "Epoch 73 completed. Validation loss: 2.0228969029017856\n",
            "Epoch 74 completed. Validation loss: 2.067184498935839\n",
            "Epoch 75 completed. Validation loss: 1.724035725641092\n",
            "Epoch 76 completed. Validation loss: 1.822613383448401\n",
            "Epoch 77 completed. Validation loss: 1.699488642999896\n",
            "Epoch 78 completed. Validation loss: 1.7885900351692277\n",
            "Epoch 79 completed. Validation loss: 1.8869387604469476\n",
            "Epoch 80 completed. Validation loss: 1.6416580352276267\n",
            "Epoch 81 completed. Validation loss: 2.060859350667047\n",
            "Epoch 82 completed. Validation loss: 1.9179087287167773\n",
            "Epoch 83 completed. Validation loss: 1.8575206262328696\n",
            "Epoch 84 completed. Validation loss: 1.6228106425846138\n",
            "Epoch 85 completed. Validation loss: 1.8075960989410298\n",
            "Epoch 86 completed. Validation loss: 1.7408566902642235\n",
            "Epoch 87 completed. Validation loss: 1.7705110568936877\n",
            "Epoch 88 completed. Validation loss: 1.8079612960055025\n",
            "Epoch 89 completed. Validation loss: 1.8400376025228404\n",
            "Epoch 90 completed. Validation loss: 1.7262818599460132\n",
            "Epoch 91 completed. Validation loss: 1.790386820948401\n",
            "Epoch 92 completed. Validation loss: 1.8120753899761213\n",
            "Epoch 93 completed. Validation loss: 1.8552793585184801\n",
            "Epoch 94 completed. Validation loss: 2.0151235384006436\n",
            "Epoch 95 completed. Validation loss: 1.8433910889482974\n",
            "Epoch 96 completed. Validation loss: 1.8141682266792982\n",
            "Epoch 97 completed. Validation loss: 1.9545099505554402\n",
            "Epoch 98 completed. Validation loss: 1.870810473876142\n",
            "Epoch 99 completed. Validation loss: 1.8457596991149294\n",
            "Epoch 100 completed. Validation loss: 1.9193845222954735\n"
          ]
        },
        {
          "output_type": "display_data",
          "data": {
            "text/plain": [
              "<Figure size 864x576 with 3 Axes>"
            ],
            "image/png": "[encoded data removed]"
          },
          "metadata": {
            "needs_background": "light"
          }
        },
        {
          "output_type": "display_data",
          "data": {
            "text/plain": [
              "<Figure size 1440x720 with 2 Axes>"
            ],
            "image/png": "[encoded data removed]"
          },
          "metadata": {
            "needs_background": "light"
          }
        },
        {
          "output_type": "stream",
          "name": "stdout",
          "text": [
            "Accuracy is 65.25%\n",
            "Recall is 64.49%\n",
            "Precision is 67.90%\n"
          ]
        }
      ]
    },
    {
      "cell_type": "code",
      "source": [],
      "metadata": {
        "id": "4SYzaHUkJIC7"
      },
      "execution_count": null,
      "outputs": []
    }
  ]
}