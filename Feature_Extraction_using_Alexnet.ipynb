{
  "nbformat": 4,
  "nbformat_minor": 0,
  "metadata": {
    "colab": {
      "provenance": [],
      "authorship_tag": "ABX9TyNlLR1XCkMfLbumZsj74NAk",
      "include_colab_link": true
    },
    "kernelspec": {
      "name": "python3",
      "display_name": "Python 3"
    },
    "language_info": {
      "name": "python"
    }
  },
  "cells": [
    {
      "cell_type": "markdown",
      "metadata": {
        "id": "view-in-github",
        "colab_type": "text"
      },
      "source": [
        "<a href=\"https://colab.research.google.com/github/Saadman53/Thesis-Human-Action-Recognition/blob/main/Feature_Extraction_using_Alexnet.ipynb\" target=\"_parent\"><img src=\"https://colab.research.google.com/assets/colab-badge.svg\" alt=\"Open In Colab\"/></a>"
      ]
    },
    {
      "cell_type": "code",
      "execution_count": null,
      "metadata": {
        "id": "oL7SJ5kyBlqE"
      },
      "outputs": [],
      "source": [
        "from google.colab import drive\n",
        "drive.mount('/content/drive')\n",
        "gdrive_path = \"drive/My Drive/Dataset/cutu_277x277.mat\""
      ]
    },
    {
      "cell_type": "code",
      "source": [
        "import pandas as pd\n",
        "import numpy as np\n",
        "import matplotlib.pyplot as plt\n",
        "import seaborn as sns\n",
        "%matplotlib inline\n",
        "\n",
        "\n",
        "\n",
        "from sklearn.preprocessing import MinMaxScaler\n",
        "import torch\n",
        "import torch.nn as nn\n",
        "import torch.nn.functional as F\n",
        "import torch.optim as optim\n",
        "import torch.nn.functional as F\n",
        "from torch.utils import data\n",
        "\n",
        "import torchvision\n",
        "import torchvision.transforms as transforms\n",
        "\n",
        "\n",
        "\n",
        "import random\n",
        "from sklearn.metrics import confusion_matrix, recall_score, precision_score\n",
        "from sklearn.model_selection import train_test_split\n",
        "\n",
        "\n",
        "import warnings\n",
        "warnings.filterwarnings('ignore')\n",
        "from sklearn.metrics import classification_report\n",
        "\n",
        "\n",
        "from torch.utils.data import DataLoader, ConcatDataset\n",
        "# from torchvision import transforms\n",
        "from sklearn.model_selection  import StratifiedKFold\n",
        "\n",
        "import torch.optim.lr_scheduler as lr_scheduler\n",
        "%matplotlib inline\n",
        "\n",
        "import scipy.io as sio\n",
        "torch.autograd.set_detect_anomaly(True)\n",
        "\n",
        "\n",
        "from functools import partial\n",
        "from typing import Any, Optional\n",
        "\n",
        "import torch\n",
        "import torch.nn as nn\n"
      ],
      "metadata": {
        "id": "KmMuyZt_Bmdf"
      },
      "execution_count": null,
      "outputs": []
    },
    {
      "cell_type": "code",
      "source": [
        "dat = sio.loadmat(gdrive_path)"
      ],
      "metadata": {
        "id": "My-MDuzPBppl"
      },
      "execution_count": null,
      "outputs": []
    },
    {
      "cell_type": "code",
      "source": [
        "X = np.resize(np.array(dat['data']),(1165,1,227,227))\n",
        "y = np.array(dat['label'])[0]"
      ],
      "metadata": {
        "id": "8FEYxjCeBrPh"
      },
      "execution_count": null,
      "outputs": []
    },
    {
      "cell_type": "code",
      "source": [
        "def alexnet_feature_extraction(X):\n",
        "  'Convert to 3 channel'\n",
        "  data = torch.empty((X.shape[0],3,227,227),dtype=torch.float32)\n",
        "  for i in range(X.shape[0]):\n",
        "    t = torch.tensor(X[i], dtype = torch.float32).reshape((1,227,227))\n",
        "    t = t.expand(3,*t.shape[1:])\n",
        "    data[i] = t\n",
        "  data = torch.tensor(data)\n",
        "\n",
        "  'Apply necessary transformations'\n",
        "  data_transforms = transforms.Compose([\n",
        "      transforms.Resize((224,224)),\n",
        "      transforms.Normalize([0.485,0.456,0.406],[0.229,0.224,0.225])\n",
        "  ])\n",
        "  X_transformed = data_transforms(data)\n",
        "\n",
        "  'Instantiate the model'\n",
        "  alexnet = torchvision.models.alexnet(pretrained=True)\n",
        "  alexnet.classifier = torch.nn.Sequential(*list(alexnet.classifier.children())[:-4]) #keeping only the first layer\n",
        "\n",
        "  'Create the new dataset'\n",
        "  dataset = torch.empty((X.shape[0],1,4096),dtype=torch.float32)\n",
        "  for i in range(data.shape[0]):\n",
        "    batch_data = torch.unsqueeze(X_transformed[i],0)\n",
        "    dataset[i] =  alexnet(batch_data)\n",
        "    print(i*100/data.shape[0])\n",
        "  return dataset\n"
      ],
      "metadata": {
        "id": "RxJNno0BBskq"
      },
      "execution_count": null,
      "outputs": []
    },
    {
      "cell_type": "code",
      "source": [
        "X = alexnet_feature_extraction(X)"
      ],
      "metadata": {
        "id": "_ul-oRY_BucA"
      },
      "execution_count": null,
      "outputs": []
    },
    {
      "cell_type": "code",
      "source": [
        "dic = {'data': X, 'labels': y, 'filename': dat['filename']}\n",
        "sio.savemat(\"drive/My Drive/Dataset/alexnet_extracted_4096.mat\", dic)"
      ],
      "metadata": {
        "id": "m23y9zwHBwTx"
      },
      "execution_count": null,
      "outputs": []
    }
  ]
}