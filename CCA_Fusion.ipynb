{
  "nbformat": 4,
  "nbformat_minor": 0,
  "metadata": {
    "colab": {
      "provenance": [],
      "authorship_tag": "ABX9TyPHdzWFic/+D6AOA1LYOQ05",
      "include_colab_link": true
    },
    "kernelspec": {
      "name": "python3",
      "display_name": "Python 3"
    },
    "language_info": {
      "name": "python"
    }
  },
  "cells": [
    {
      "cell_type": "markdown",
      "metadata": {
        "id": "view-in-github",
        "colab_type": "text"
      },
      "source": [
        "<a href=\"https://colab.research.google.com/github/Saadman53/Thesis-Human-Activity-Recognition/blob/Defense/CCA_Fusion.ipynb\" target=\"_parent\"><img src=\"https://colab.research.google.com/assets/colab-badge.svg\" alt=\"Open In Colab\"/></a>"
      ]
    },
    {
      "cell_type": "code",
      "execution_count": 1,
      "metadata": {
        "id": "AQLR5BpMU_jU"
      },
      "outputs": [],
      "source": [
        "import numpy as np\n",
        "from sklearn.cross_decomposition import CCA"
      ]
    },
    {
      "cell_type": "code",
      "source": [
        "def PCA(train,test,val):\n",
        "    mean = np.mean(train, axis = 0)\n",
        "    std = train.std(axis = 0)\n",
        "    train = (train - mean)/std\n",
        "    test = (test - mean)/std\n",
        "    val = (val - mean )/std\n",
        "    C = np.cov(train, ddof = 0, rowvar = False)\n",
        "    eigenvalues, eigenvectors = np.linalg.eig(C)\n",
        "    order_of_importance = np.argsort(eigenvalues)[::-1] \n",
        "    sorted_eigenvalues = eigenvalues[order_of_importance]\n",
        "    sorted_eigenvectors = eigenvectors[:,order_of_importance] # sort the columns\n",
        "    explained_variance = sorted_eigenvalues / np.sum(sorted_eigenvalues)\n",
        "    train = np.matmul(train, sorted_eigenvectors[:,:n]) \n",
        "    test = np.matmul(test, sorted_eigenvectors[:,:n]) \n",
        "    val = np.matmul(val, sorted_eigenvectors[:,:n]) \n",
        "    return train,test,val\n",
        "    \n",
        "def CCAFusion(train_X, train_Y, test_X, test_Y, val_X, val_Y):\n",
        "    n,p = train_X.shape\n",
        "    q   = train_Y.shape[1]\n",
        "    train_X, test_X, val_X = PCA(train_X, test_X, val_X )\n",
        "    train_Y, test_Y, val_Y = PCA(train_Y, test_Y, val_Y )\n",
        "    ca = CCA()\n",
        "    ca.fit(train_X, train_Y)\n",
        "    train_X, train_Y = ca.transform(train_X, train_Y)\n",
        "    test_X, test_Y = ca.transform(test_X, test_Y)\n",
        "    val_X, val_Y = ca.transform(val_X, val_Y)\n",
        "    return train_X+train_Y, test_X+test_Y, val_X+val_Y"
      ],
      "metadata": {
        "id": "mfglo6KHVBrK"
      },
      "execution_count": 2,
      "outputs": []
    },
    {
      "cell_type": "code",
      "source": [],
      "metadata": {
        "id": "ef2SqTvUVKxa"
      },
      "execution_count": null,
      "outputs": []
    }
  ]
}