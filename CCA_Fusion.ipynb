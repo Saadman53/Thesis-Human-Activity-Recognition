{
  "nbformat": 4,
  "nbformat_minor": 0,
  "metadata": {
    "colab": {
      "provenance": [],
      "authorship_tag": "ABX9TyOTnoNY/MPauxuSt2bM+QZQ",
      "include_colab_link": true
    },
    "kernelspec": {
      "name": "python3",
      "display_name": "Python 3"
    },
    "language_info": {
      "name": "python"
    }
  },
  "cells": [
    {
      "cell_type": "markdown",
      "metadata": {
        "id": "view-in-github",
        "colab_type": "text"
      },
      "source": [
        "<a href=\"https://colab.research.google.com/github/Saadman53/Thesis-Human-Activity-Recognition/blob/Defense/CCA_Fusion.ipynb\" target=\"_parent\"><img src=\"https://colab.research.google.com/assets/colab-badge.svg\" alt=\"Open In Colab\"/></a>"
      ]
    },
    {
      "cell_type": "code",
      "execution_count": 1,
      "metadata": {
        "colab": {
          "base_uri": "https://localhost:8080/"
        },
        "id": "AQLR5BpMU_jU",
        "outputId": "03eddb17-e0af-4680-9623-1d89430566c5"
      },
      "outputs": [
        {
          "output_type": "stream",
          "name": "stdout",
          "text": [
            "Drive already mounted at /content/drive; to attempt to forcibly remount, call drive.mount(\"/content/drive\", force_remount=True).\n"
          ]
        }
      ],
      "source": [
        "import numpy as np\n",
        "from sklearn.cross_decomposition import CCA\n",
        "from sklearn.decomposition import PCA\n",
        "from google.colab import drive\n",
        "drive.mount('/content/drive')\n"
      ]
    },
    {
      "cell_type": "code",
      "source": [
        "import scipy.io as sio\n",
        "from sklearn.preprocessing import StandardScaler"
      ],
      "metadata": {
        "id": "eQHLf1vlVztl"
      },
      "execution_count": 18,
      "outputs": []
    },
    {
      "cell_type": "code",
      "source": [
        "gdrive_path = \"drive/My Drive/Dataset/Final Dataset/alexnet_DMM_Gauss_Sobel_train_test_set.mat\"\n",
        "sensor_path = \"drive/My Drive/Dataset/Final Dataset/sensor_features_acc_gyro.mat\""
      ],
      "metadata": {
        "id": "TsuAPKFxVhDY"
      },
      "execution_count": 3,
      "outputs": []
    },
    {
      "cell_type": "code",
      "source": [
        "dat1 = sio.loadmat(gdrive_path)\n",
        "dat2 = sio.loadmat(sensor_path)"
      ],
      "metadata": {
        "id": "S4pvtnWHVxld"
      },
      "execution_count": 4,
      "outputs": []
    },
    {
      "cell_type": "code",
      "source": [
        "X_train1 = dat1['X_train']\n",
        "X_test1 = dat1['X_test']\n",
        "X_val1 = dat1['X_val']\n",
        "X_train2 = dat2['X_train']\n",
        "X_test2 = dat2['X_test']\n",
        "X_val2 = dat2['X_val']"
      ],
      "metadata": {
        "id": "Z3kRNAz3V9UF"
      },
      "execution_count": 6,
      "outputs": []
    },
    {
      "cell_type": "code",
      "source": [
        "print(X_train1.shape,X_train2.shape)"
      ],
      "metadata": {
        "colab": {
          "base_uri": "https://localhost:8080/"
        },
        "id": "pAJjXHfUWNwE",
        "outputId": "c7d53ece-ada7-47a2-f6fd-267b1a3e881e"
      },
      "execution_count": 7,
      "outputs": [
        {
          "output_type": "stream",
          "name": "stdout",
          "text": [
            "(742, 4096) (742, 423)\n"
          ]
        }
      ]
    },
    {
      "cell_type": "code",
      "source": [
        "def CCAFusion(train_X, train_Y, test_X, test_Y, val_X, val_Y):\n",
        "    n,p = train_X.shape\n",
        "    q   = train_Y.shape[1]\n",
        "    n_components = min(n,p,q)\n",
        "    pca1 = PCA()\n",
        "    sc1 = StandardScaler()\n",
        "    train_X = sc1.fit_transform(train_X)\n",
        "    test_X = sc1.transform(test_X)\n",
        "    val_X = sc1.transform(val_X)\n",
        "    \n",
        "    sc2 = StandardScaler()\n",
        "    train_Y = sc2.fit_transform(train_Y)\n",
        "    test_Y = sc2.transform(test_Y)\n",
        "    val_Y = sc2.transform(val_Y)\n",
        "\n",
        "    pca1 = PCA(n_components)\n",
        "    train_X = pca1.fit_transform(train_X)\n",
        "    test_X = pca1.transform(test_X)\n",
        "    val_X = pca1.transform(val_X)\n",
        "    pca2 = PCA(n_components)\n",
        "    train_Y = pca2.fit_transform(train_Y)\n",
        "    test_Y = pca2.transform(test_Y)\n",
        "    val_Y = pca2.transform(val_Y)\n",
        "\n",
        "    print(train_X.shape,test_X.shape,train_Y.shape,val_Y.shape)\n",
        "    ca = CCA(n_components)\n",
        "    ca.fit(train_X, train_Y)\n",
        "    train_X, train_Y = ca.transform(train_X, train_Y)\n",
        "    test_X, test_Y = ca.transform(test_X, test_Y)\n",
        "    val_X, val_Y = ca.transform(val_X, val_Y)\n",
        "    return train_X+train_Y, test_X+test_Y, val_X+val_Y"
      ],
      "metadata": {
        "id": "mfglo6KHVBrK"
      },
      "execution_count": 23,
      "outputs": []
    },
    {
      "cell_type": "code",
      "source": [
        "a,b,c = CCAFusion(X_train1, X_train2, X_test1, X_test2, X_val1, X_val2)"
      ],
      "metadata": {
        "colab": {
          "base_uri": "https://localhost:8080/"
        },
        "id": "ef2SqTvUVKxa",
        "outputId": "f67e49f1-31ae-4b04-8ade-08c2f54b85cc"
      },
      "execution_count": 24,
      "outputs": [
        {
          "output_type": "stream",
          "name": "stdout",
          "text": [
            "(742, 423) (291, 423) (742, 423) (131, 423)\n"
          ]
        },
        {
          "output_type": "stream",
          "name": "stderr",
          "text": [
            "/usr/local/lib/python3.8/dist-packages/sklearn/cross_decomposition/_pls.py:107: ConvergenceWarning: Maximum number of iterations reached\n",
            "  warnings.warn(\"Maximum number of iterations reached\", ConvergenceWarning)\n"
          ]
        }
      ]
    },
    {
      "cell_type": "code",
      "source": [
        "print(a.shape,b.shape,c.shape)"
      ],
      "metadata": {
        "colab": {
          "base_uri": "https://localhost:8080/"
        },
        "id": "nEz0v3wMfTZ0",
        "outputId": "13252f46-d96a-40de-9ed8-b5776a633511"
      },
      "execution_count": 28,
      "outputs": [
        {
          "output_type": "stream",
          "name": "stdout",
          "text": [
            "(742, 423) (291, 423) (131, 423)\n"
          ]
        }
      ]
    },
    {
      "cell_type": "code",
      "source": [],
      "metadata": {
        "id": "ucrtlrvQfWEt"
      },
      "execution_count": null,
      "outputs": []
    }
  ]
}